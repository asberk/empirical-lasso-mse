{
 "cells": [
  {
   "cell_type": "markdown",
   "metadata": {
    "toc": "true"
   },
   "source": [
    "# Table of Contents\n",
    " <p>"
   ]
  },
  {
   "cell_type": "code",
   "execution_count": 1,
   "metadata": {
    "collapsed": false
   },
   "outputs": [
    {
     "name": "stdout",
     "output_type": "stream",
     "text": [
      "Populating the interactive namespace from numpy and matplotlib\n"
     ]
    }
   ],
   "source": [
    "%pylab inline"
   ]
  },
  {
   "cell_type": "code",
   "execution_count": 22,
   "metadata": {
    "collapsed": false
   },
   "outputs": [
    {
     "data": {
      "text/plain": [
       "[(1, 2), (3, 2), (3, 4), (1, 4)]"
      ]
     },
     "execution_count": 22,
     "metadata": {},
     "output_type": "execute_result"
    }
   ],
   "source": [
    "list(set([(1,2), (3,4), (1,4), (3,2), (1,2)]))"
   ]
  },
  {
   "cell_type": "code",
   "execution_count": null,
   "metadata": {
    "collapsed": true
   },
   "outputs": [],
   "source": [
    "class KnightBoard:\n",
    "    def __init__(self, p0):\n",
    "        self.board = {}\n",
    "        self.turns = -1\n",
    "        if not isinstance(p0, list):\n",
    "            p0 = [p0]\n",
    "        self.move(p0)\n",
    "    def move(self, positions):\n",
    "        # assume White\n",
    "        newBoard = np.zeros((8,8))\n",
    "        newPositions = []\n",
    "        for position in positions:\n",
    "            row, col = position[::-1]\n",
    "            row = self.rowLetterToIndex(row)\n",
    "            col = self.colNumberToIndex(col)\n",
    "            newPositions.append(self.getNewPositions((row, col)))\n",
    "        list(set(newPositions))\n",
    "        \n",
    "        \n",
    "            \n",
    "    def rowLetterToIndex(self, row):\n",
    "        rows = 'abcdefgh'\n",
    "        return rows.index(row.lower())\n",
    "    def colNumberToIndex(self, col):\n",
    "        cols = '12345678'\n",
    "        return cols.index(col.lower())\n",
    "    def getNewPositions(self, (row, col)):\n",
    "        newPositions = []\n",
    "        ds = np.array([[-2, -1],\n",
    "                       [-2, 1],\n",
    "                       [-1, -2],\n",
    "                       [-1, 2],\n",
    "                       [1, -2],\n",
    "                       [1, 2], \n",
    "                       [2, -1], \n",
    "                       [2, 1]])\n",
    "        for j in range(ds.shape[0]):\n",
    "            if (row + ds[j,0] < 8) and (row + ds[j,0] >= 0) and (col + ds[j,1] < 8) and (col + ds[j,1] >= 0):\n",
    "                newPositions.append( (row+ds[j,0], col+ds[j,1]) )\n",
    "        return newPositions\n",
    "        "
   ]
  },
  {
   "cell_type": "code",
   "execution_count": null,
   "metadata": {
    "collapsed": true
   },
   "outputs": [],
   "source": [
    "k0 = np.zeros((8,8))\n",
    "k0[]"
   ]
  },
  {
   "cell_type": "code",
   "execution_count": 23,
   "metadata": {
    "collapsed": true
   },
   "outputs": [],
   "source": []
  },
  {
   "cell_type": "code",
   "execution_count": null,
   "metadata": {
    "collapsed": true
   },
   "outputs": [],
   "source": []
  }
 ],
 "metadata": {
  "kernelspec": {
   "display_name": "Python 3",
   "language": "python",
   "name": "python3"
  },
  "language_info": {
   "codemirror_mode": {
    "name": "ipython",
    "version": 3
   },
   "file_extension": ".py",
   "mimetype": "text/x-python",
   "name": "python",
   "nbconvert_exporter": "python",
   "pygments_lexer": "ipython3",
   "version": "3.5.2"
  },
  "toc": {
   "nav_menu": {
    "height": "12px",
    "width": "252px"
   },
   "navigate_menu": true,
   "number_sections": true,
   "sideBar": true,
   "threshold": 4,
   "toc_cell": true,
   "toc_section_display": "block",
   "toc_window_display": false
  }
 },
 "nbformat": 4,
 "nbformat_minor": 1
}
