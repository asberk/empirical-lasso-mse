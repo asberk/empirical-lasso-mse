{
 "cells": [
  {
   "cell_type": "markdown",
   "metadata": {
    "toc": "true"
   },
   "source": [
    "# Table of Contents\n",
    " <p><div class=\"lev1 toc-item\"><a href=\"#Generate-adjoint-products-of-normal-random-matrices-and-vectors\" data-toc-modified-id=\"Generate-adjoint-products-of-normal-random-matrices-and-vectors-1\"><span class=\"toc-item-num\">1&nbsp;&nbsp;</span>Generate adjoint products of normal random matrices and vectors</a></div><div class=\"lev1 toc-item\"><a href=\"#QQ-plot-for-comparing-normality\" data-toc-modified-id=\"QQ-plot-for-comparing-normality-2\"><span class=\"toc-item-num\">2&nbsp;&nbsp;</span>QQ-plot for comparing normality</a></div><div class=\"lev1 toc-item\"><a href=\"#Statistical-tests-for-normality\" data-toc-modified-id=\"Statistical-tests-for-normality-3\"><span class=\"toc-item-num\">3&nbsp;&nbsp;</span>Statistical tests for normality</a></div><div class=\"lev2 toc-item\"><a href=\"#scipy.stats-diagnostic-tests-for-normality\" data-toc-modified-id=\"scipy.stats-diagnostic-tests-for-normality-31\"><span class=\"toc-item-num\">3.1&nbsp;&nbsp;</span><code>scipy.stats</code> diagnostic tests for normality</a></div><div class=\"lev2 toc-item\"><a href=\"#statsmodels-diagnostic-tests-for-normality\" data-toc-modified-id=\"statsmodels-diagnostic-tests-for-normality-32\"><span class=\"toc-item-num\">3.2&nbsp;&nbsp;</span><code>statsmodels</code> diagnostic tests for normality</a></div><div class=\"lev1 toc-item\"><a href=\"#Expected-largest-entry?\" data-toc-modified-id=\"Expected-largest-entry?-4\"><span class=\"toc-item-num\">4&nbsp;&nbsp;</span>Expected largest entry?</a></div>"
   ]
  },
  {
   "cell_type": "code",
   "execution_count": 3,
   "metadata": {
    "collapsed": false
   },
   "outputs": [
    {
     "name": "stdout",
     "output_type": "stream",
     "text": [
      "Populating the interactive namespace from numpy and matplotlib\n"
     ]
    }
   ],
   "source": [
    "%pylab inline"
   ]
  },
  {
   "cell_type": "markdown",
   "metadata": {},
   "source": [
    "# Generate adjoint products of normal random matrices and vectors"
   ]
  },
  {
   "cell_type": "code",
   "execution_count": 7,
   "metadata": {
    "collapsed": true
   },
   "outputs": [],
   "source": [
    "def Atz(m, N, **kwargs):\n",
    "    scaling = kwargs.get('scaling', 'm**-.5')\n",
    "    eta = kwargs.get('eta', 1)\n",
    "    if not (scaling == 1):\n",
    "        scaling = 1/np.sqrt(m)\n",
    "    return (scaling*np.random.randn(N, m)) @ np.random.randn(m)"
   ]
  },
  {
   "cell_type": "markdown",
   "metadata": {},
   "source": [
    "Compute adjoint product and print mean, variance and histogram of result."
   ]
  },
  {
   "cell_type": "code",
   "execution_count": 8,
   "metadata": {
    "collapsed": false
   },
   "outputs": [
    {
     "name": "stdout",
     "output_type": "stream",
     "text": [
      "mean: 0.005438017080703184\n",
      "var: 0.9998719676063136\n"
     ]
    },
    {
     "data": {
      "image/png": "[encoded data removed]",
      "text/plain": [
       "<matplotlib.figure.Figure at 0x110da9d30>"
      ]
     },
     "metadata": {},
     "output_type": "display_data"
    }
   ],
   "source": [
    "rho = Atz(1000, 10000)\n",
    "print('mean: {}\\nvar: {}'.format(rho.mean(), rho.var()))\n",
    "plt.hist(rho);"
   ]
  },
  {
   "cell_type": "markdown",
   "metadata": {},
   "source": [
    "Normalize the data."
   ]
  },
  {
   "cell_type": "code",
   "execution_count": 9,
   "metadata": {
    "collapsed": true
   },
   "outputs": [],
   "source": [
    "Z = (rho - rho.mean())/rho.std()"
   ]
  },
  {
   "cell_type": "markdown",
   "metadata": {},
   "source": [
    "# QQ-plot for comparing normality"
   ]
  },
  {
   "cell_type": "markdown",
   "metadata": {},
   "source": [
    "The histogram looks normally distributed, so let's improve our intuition with a qq-plot (actually maybe technically called a prob-plot)."
   ]
  },
  {
   "cell_type": "code",
   "execution_count": 10,
   "metadata": {
    "collapsed": true
   },
   "outputs": [],
   "source": [
    "from statsmodels.graphics.gofplots import qqplot"
   ]
  },
  {
   "cell_type": "code",
   "execution_count": 11,
   "metadata": {
    "collapsed": false
   },
   "outputs": [
    {
     "data": {
      "image/png": "[encoded data removed]",
      "text/plain": [
       "<matplotlib.figure.Figure at 0x11c231f98>"
      ]
     },
     "metadata": {},
     "output_type": "display_data"
    }
   ],
   "source": [
    "qqplot(Z, line='45');"
   ]
  },
  {
   "cell_type": "markdown",
   "metadata": {},
   "source": [
    "# Statistical tests for normality"
   ]
  },
  {
   "cell_type": "markdown",
   "metadata": {},
   "source": [
    "## `scipy.stats` diagnostic tests for normality"
   ]
  },
  {
   "cell_type": "markdown",
   "metadata": {},
   "source": [
    "Kolmogorov-Smirnov test for normality."
   ]
  },
  {
   "cell_type": "code",
   "execution_count": 12,
   "metadata": {
    "collapsed": true
   },
   "outputs": [],
   "source": [
    "from scipy.stats import kstest"
   ]
  },
  {
   "cell_type": "code",
   "execution_count": 13,
   "metadata": {
    "collapsed": false
   },
   "outputs": [
    {
     "data": {
      "text/plain": [
       "KstestResult(statistic=0.008084103308651891, pvalue=0.53052137094561547)"
      ]
     },
     "execution_count": 13,
     "metadata": {},
     "output_type": "execute_result"
    }
   ],
   "source": [
    "kstest(rho, 'norm')"
   ]
  },
  {
   "cell_type": "markdown",
   "metadata": {},
   "source": [
    "## `statsmodels` diagnostic tests for normality"
   ]
  },
  {
   "cell_type": "markdown",
   "metadata": {},
   "source": [
    "The Lilliefors test for normality with unknown mean and variance is a \"corrected\" version of the K-S test for normality (*cf.* above). The Anderson-Darling test for normality with unknown mean and variance reportedly has greater power for distinguishing normality than the Lilliefors test."
   ]
  },
  {
   "cell_type": "code",
   "execution_count": 16,
   "metadata": {
    "collapsed": true
   },
   "outputs": [],
   "source": [
    "from statsmodels.stats.diagnostic import normal_ad, lillifors"
   ]
  },
  {
   "cell_type": "code",
   "execution_count": 15,
   "metadata": {
    "collapsed": false
   },
   "outputs": [
    {
     "data": {
      "text/plain": [
       "(0.0076359344834193155, 0.19675788071812925)"
      ]
     },
     "execution_count": 15,
     "metadata": {},
     "output_type": "execute_result"
    }
   ],
   "source": [
    "lillifors(rho)"
   ]
  },
  {
   "cell_type": "code",
   "execution_count": 17,
   "metadata": {
    "collapsed": false
   },
   "outputs": [
    {
     "data": {
      "text/plain": [
       "(0.51350868310146325, 0.19326037306847452)"
      ]
     },
     "execution_count": 17,
     "metadata": {},
     "output_type": "execute_result"
    }
   ],
   "source": [
    "normal_ad(rho)"
   ]
  },
  {
   "cell_type": "markdown",
   "metadata": {},
   "source": [
    "# Expected largest entry? "
   ]
  },
  {
   "cell_type": "markdown",
   "metadata": {},
   "source": [
    "Load associated file `randomNormalInfNorm.json`"
   ]
  },
  {
   "cell_type": "code",
   "execution_count": 1,
   "metadata": {
    "collapsed": true
   },
   "outputs": [],
   "source": [
    "import json"
   ]
  },
  {
   "cell_type": "code",
   "execution_count": 10,
   "metadata": {
    "collapsed": false
   },
   "outputs": [],
   "source": [
    "mvec = (100, 500, 100)\n",
    "Nvec = (1000, 2000, 3000)\n",
    "normalInfNorm = np.array(json.load(open('./randomNormalInfNorm.json', 'r+')))"
   ]
  },
  {
   "cell_type": "code",
   "execution_count": 11,
   "metadata": {
    "collapsed": false
   },
   "outputs": [
    {
     "data": {
      "image/png": "[encoded data removed]",
      "text/plain": [
       "<matplotlib.figure.Figure at 0x10865fb70>"
      ]
     },
     "metadata": {},
     "output_type": "display_data"
    }
   ],
   "source": [
    "plt.matshow(normalInfNorm.mean(axis=2))\n",
    "plt.colorbar();"
   ]
  },
  {
   "cell_type": "code",
   "execution_count": 18,
   "metadata": {
    "collapsed": false
   },
   "outputs": [
    {
     "data": {
      "text/plain": [
       "array([[ 3.43997915,  3.60808984,  3.71732943],\n",
       "       [ 3.44664447,  3.63515939,  3.71065931],\n",
       "       [ 3.42540422,  3.62486786,  3.71788486]])"
      ]
     },
     "execution_count": 18,
     "metadata": {},
     "output_type": "execute_result"
    }
   ],
   "source": [
    "normalInfNorm.mean(axis=2)"
   ]
  },
  {
   "cell_type": "code",
   "execution_count": 24,
   "metadata": {
    "collapsed": false
   },
   "outputs": [
    {
     "data": {
      "text/plain": [
       "[<matplotlib.lines.Line2D at 0x108757518>]"
      ]
     },
     "execution_count": 24,
     "metadata": {},
     "output_type": "execute_result"
    },
    {
     "data": {
      "image/png": "[encoded data removed]",
      "text/plain": [
       "<matplotlib.figure.Figure at 0x10d081f28>"
      ]
     },
     "metadata": {},
     "output_type": "display_data"
    }
   ],
   "source": [
    "plt.plot(normalInfNorm.mean(axis=2).T);\n",
    "plt.plot(np.linspace(0, 2, 50), np.log(1+np.linspace(0, 2, 50)), 'k')"
   ]
  }
 ],
 "metadata": {
  "kernelspec": {
   "display_name": "Python 3",
   "language": "python",
   "name": "python3"
  },
  "language_info": {
   "codemirror_mode": {
    "name": "ipython",
    "version": 3
   },
   "file_extension": ".py",
   "mimetype": "text/x-python",
   "name": "python",
   "nbconvert_exporter": "python",
   "pygments_lexer": "ipython3",
   "version": "3.5.2"
  },
  "toc": {
   "nav_menu": {
    "height": "156px",
    "width": "252px"
   },
   "navigate_menu": true,
   "number_sections": true,
   "sideBar": true,
   "threshold": 4,
   "toc_cell": true,
   "toc_section_display": "block",
   "toc_window_display": false
  }
 },
 "nbformat": 4,
 "nbformat_minor": 1
}
