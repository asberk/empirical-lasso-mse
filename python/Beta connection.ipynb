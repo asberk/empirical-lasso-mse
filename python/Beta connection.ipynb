{
 "cells": [
  {
   "cell_type": "markdown",
   "metadata": {
    "toc": "true"
   },
   "source": [
    "# Table of Contents\n",
    " <p><div class=\"lev1 toc-item\"><a href=\"#Description\" data-toc-modified-id=\"Description-1\"><span class=\"toc-item-num\">1&nbsp;&nbsp;</span>Description</a></div><div class=\"lev1 toc-item\"><a href=\"#Counting-$|U|$\" data-toc-modified-id=\"Counting-$|U|$-2\"><span class=\"toc-item-num\">2&nbsp;&nbsp;</span>Counting <span class=\"MathJax_Preview\" style=\"color: inherit;\"></span><span class=\"MathJax\" id=\"MathJax-Element-2-Frame\" tabindex=\"0\" data-mathml=\"<math xmlns=&quot;http://www.w3.org/1998/Math/MathML&quot;><mrow class=&quot;MJX-TeXAtom-ORD&quot;><mo stretchy=&quot;false&quot;>|</mo></mrow><mi>U</mi><mrow class=&quot;MJX-TeXAtom-ORD&quot;><mo stretchy=&quot;false&quot;>|</mo></mrow></math>\" role=\"presentation\" style=\"position: relative;\"><nobr aria-hidden=\"true\"><span class=\"math\" id=\"MathJax-Span-6\" role=\"math\" style=\"width: 1.42em; display: inline-block;\"><span style=\"display: inline-block; position: relative; width: 1.168em; height: 0px; font-size: 122%;\"><span style=\"position: absolute; clip: rect(1.735em 1001.11em 2.618em -999.998em); top: -2.489em; left: 0.002em;\"><span class=\"mrow\" id=\"MathJax-Span-7\"><span class=\"texatom\" id=\"MathJax-Span-8\"><span class=\"mrow\" id=\"MathJax-Span-9\"><span class=\"mo\" id=\"MathJax-Span-10\" style=\"font-family: STIXMathJax_Main;\">|</span></span></span><span class=\"mi\" id=\"MathJax-Span-11\" style=\"font-family: STIXMathJax_Main-italic;\">U<span style=\"display: inline-block; overflow: hidden; height: 1px; width: 0.033em;\"></span></span><span class=\"texatom\" id=\"MathJax-Span-12\"><span class=\"mrow\" id=\"MathJax-Span-13\"><span class=\"mo\" id=\"MathJax-Span-14\" style=\"font-family: STIXMathJax_Main;\">|</span></span></span></span><span style=\"display: inline-block; width: 0px; height: 2.492em;\"></span></span></span><span style=\"display: inline-block; overflow: hidden; vertical-align: -0.075em; border-left: 0px solid; width: 0px; height: 0.925em;\"></span></span></nobr><span class=\"MJX_Assistive_MathML\" role=\"presentation\"><math xmlns=\"http://www.w3.org/1998/Math/MathML\"><mrow class=\"MJX-TeXAtom-ORD\"><mo stretchy=\"false\">|</mo></mrow><mi>U</mi><mrow class=\"MJX-TeXAtom-ORD\"><mo stretchy=\"false\">|</mo></mrow></math></span></span><script type=\"math/tex\" id=\"MathJax-Element-2\">|U|</script></a></div>"
   ]
  },
  {
   "cell_type": "code",
   "execution_count": 1,
   "metadata": {
    "collapsed": false
   },
   "outputs": [
    {
     "name": "stdout",
     "output_type": "stream",
     "text": [
      "Populating the interactive namespace from numpy and matplotlib\n"
     ]
    }
   ],
   "source": [
    "%pylab inline"
   ]
  },
  {
   "cell_type": "code",
   "execution_count": 2,
   "metadata": {
    "collapsed": false
   },
   "outputs": [
    {
     "name": "stdout",
     "output_type": "stream",
     "text": [
      "trying alternative import for spgl1...success!\n"
     ]
    }
   ],
   "source": [
    "import pdmse"
   ]
  },
  {
   "cell_type": "code",
   "execution_count": 3,
   "metadata": {
    "collapsed": true
   },
   "outputs": [],
   "source": [
    "from scipy.stats import norm, beta"
   ]
  },
  {
   "cell_type": "markdown",
   "metadata": {},
   "source": [
    "# Description"
   ]
  },
  {
   "cell_type": "markdown",
   "metadata": {},
   "source": [
    "In this document, we create several empirical approximations related to quantities computed from order statistics [of normal-random and uniform distributions].\n",
    "In particular, let $z \\in \\mathbb{R}^n$ have iid standard normal entries,\n",
    "$$\n",
    "z_j \\overset{iid}{\\sim} \\mathcal{N}(0,1), \\quad j \\in [n]\n",
    "$$ \n",
    "and denote the soft-thresholding operator by \n",
    "$$\n",
    "S_\\lambda(y) = \\mathrm{sgn}(y) \\max(0, |y| - \\lambda). \n",
    "$$\n",
    "We are looking to prove that if \n",
    "$$\n",
    "\\langle S_\\lambda (z), z \\rangle \\geq \\sqrt n\n",
    "$$\n",
    "then \n",
    "$$\n",
    "\\|S_\\lambda (z) \\|_2 \\geq n^p\n",
    "$$\n",
    "for some $p > 0$. We'll be looking for something like $p^{1/3}$ but anything will do. "
   ]
  },
  {
   "cell_type": "markdown",
   "metadata": {},
   "source": [
    "Without loss of generality, just assume that $z_j$ are all positive; this changes nothing, \n",
    "because we could just analyze a positive and negative $z$ with no difference to the result. \n",
    "First note that\n",
    "$$\n",
    "\\langle S_\\lambda(z), z\\rangle \n",
    "= \\langle (z- \\lambda)_U, z \\rangle \n",
    "= \\langle z_U, z \\rangle - \\lambda \\langle \\mathbb{1}_U, z\\rangle\n",
    "= \\|z_U\\|_2^2 - \\lambda \\|z_U\\|_1 \n",
    "$$\n",
    "and secondly, note \n",
    "$$\n",
    "\\|S_\\lambda (z) \\|_2^2\n",
    "= \\langle (z-\\lambda)_U, (z - \\lambda)_U\\rangle\n",
    "= \\|z_U\\|_2^2 - 2 \\lambda \\|z_U\\|_1 + \\lambda^2 |U|\n",
    "$$"
   ]
  },
  {
   "cell_type": "markdown",
   "metadata": {},
   "source": [
    "# Counting $|U|$"
   ]
  },
  {
   "cell_type": "code",
   "execution_count": 60,
   "metadata": {
    "collapsed": true
   },
   "outputs": [],
   "source": [
    "z = np.random.randn(100, 10)\n",
    "zu = pdmse.softThresh(z, 1)"
   ]
  },
  {
   "cell_type": "code",
   "execution_count": 71,
   "metadata": {
    "collapsed": true
   },
   "outputs": [],
   "source": [
    "from pprint import pprint"
   ]
  },
  {
   "cell_type": "code",
   "execution_count": 65,
   "metadata": {
    "collapsed": false
   },
   "outputs": [],
   "source": [
    "zxzu = np.inner(z.T, zu.T)"
   ]
  },
  {
   "cell_type": "code",
   "execution_count": 102,
   "metadata": {
    "collapsed": false
   },
   "outputs": [
    {
     "data": {
      "text/plain": [
       "array([ 29.67850221,  19.44799413,  27.26696964,  31.66462721,\n",
       "        34.7033675 ,  38.49565768,  42.67168926,  27.11633388,\n",
       "        25.67609335,  22.00576809])"
      ]
     },
     "execution_count": 102,
     "metadata": {},
     "output_type": "execute_result"
    }
   ],
   "source": [
    "np.einsum('i...,i...', z, zu)"
   ]
  },
  {
   "cell_type": "code",
   "execution_count": 122,
   "metadata": {
    "collapsed": true
   },
   "outputs": [],
   "source": [
    "def orderStatNorm_Empirical(n=1000, thresh=1, k=1000, ord=2):\n",
    "    \"\"\"\n",
    "    orderStatNorm_Empirical(n=1000, thresh=1, k=1000, ord=2)\n",
    "    computes the norm of the values of z which are greater in magnitude than thresh.\n",
    "    In particular, define for a normal random vector z\n",
    "      U = { j : |z[j]| > thresh }\n",
    "      y = (z[j] : j \\in U) \\in R^|U|\n",
    "    Then this function approximates\n",
    "      rho = norm(y, ord)\n",
    "    by computing the sample norm\n",
    "      rho_bar = mean((norm(y_ell, ord), ell = 1, ..., k));\n",
    "    and also returns the proportion\n",
    "      kappa = #{ ell : <z_ell, zu_ell> >= sqrt(n) }/k\n",
    "    of the sample that was used in the computation. This is \n",
    "    because only the subsample given by the set in the \n",
    "    definition of kappa is used in the computation of the mean.\n",
    "\n",
    "    Input\n",
    "    =====\n",
    "         n : the dimension of the random normal vector\n",
    "    thresh : the threshold value for determining for which sub-vector to compute the norm\n",
    "         k : the number of random vectors for which to compute the norm for (the mean is returned)\n",
    "       ord : the norm to compute\n",
    "\n",
    "    Output\n",
    "    ======\n",
    "    rho_bar : the mean norm of the vector z_U (norm_zu.mean())\n",
    "      kappa : the proportion of the sample of random vectors that \n",
    "              was valid for use in the computation of rho_bar\n",
    "    \"\"\"\n",
    "    z = np.random.randn(n, k)\n",
    "    zu = pdmse.softThresh(z, thresh)  # zu = sgn(z) * max(0, |z| - thresh)\n",
    "    inner_products = np.einsum('i...,i...', z, zu)  # <z_j, zu_j> for j = 1, ..., k\n",
    "    condition = inner_products > np.sqrt(n)\n",
    "    norm_zu = np.linalg.norm(z[:, condition], ord=ord, axis=0)\n",
    "    return (norm_zu.mean(), condition.sum()/k)"
   ]
  },
  {
   "cell_type": "code",
   "execution_count": 139,
   "metadata": {
    "collapsed": false
   },
   "outputs": [
    {
     "data": {
      "text/plain": [
       "(798.56079158809712, 0.92900000000000005)"
      ]
     },
     "execution_count": 139,
     "metadata": {},
     "output_type": "execute_result"
    }
   ],
   "source": [
    "orderStatNorm_Empirical(thresh=2, ord=1)"
   ]
  },
  {
   "cell_type": "code",
   "execution_count": 59,
   "metadata": {
    "collapsed": true
   },
   "outputs": [],
   "source": [
    "def aboveThresh_Empirical(n=1000, thresh=1, k=1000):\n",
    "    z = np.random.randn(n*k)\n",
    "    zu = pdmse.softThresh(z, thresh)\n",
    "    return (np.abs(zu)>0).sum()/k\n",
    "\n",
    "\n",
    "def aboveThresh_Analytic(n=1000, thresh=1):\n",
    "    return np.floor((n+1) * 2 * norm.cdf(-thresh))"
   ]
  },
  {
   "cell_type": "code",
   "execution_count": 53,
   "metadata": {
    "collapsed": false
   },
   "outputs": [
    {
     "data": {
      "text/plain": [
       "316.0"
      ]
     },
     "execution_count": 53,
     "metadata": {},
     "output_type": "execute_result"
    }
   ],
   "source": [
    "aboveThresh_Analytic()"
   ]
  },
  {
   "cell_type": "code",
   "execution_count": 58,
   "metadata": {
    "collapsed": false
   },
   "outputs": [
    {
     "data": {
      "text/plain": [
       "316.80900000000003"
      ]
     },
     "execution_count": 58,
     "metadata": {},
     "output_type": "execute_result"
    }
   ],
   "source": [
    "aboveThresh_Empirical()"
   ]
  },
  {
   "cell_type": "code",
   "execution_count": 18,
   "metadata": {
    "collapsed": false
   },
   "outputs": [
    {
     "data": {
      "text/plain": [
       "9939.0"
      ]
     },
     "execution_count": 18,
     "metadata": {},
     "output_type": "execute_result"
    }
   ],
   "source": [
    "np.ceil(norm.cdf(2.5)*(10000+1))"
   ]
  },
  {
   "cell_type": "code",
   "execution_count": 21,
   "metadata": {
    "collapsed": false
   },
   "outputs": [],
   "source": [
    "n=10000"
   ]
  },
  {
   "cell_type": "code",
   "execution_count": 30,
   "metadata": {
    "collapsed": false
   },
   "outputs": [
    {
     "data": {
      "text/plain": [
       "62.0"
      ]
     },
     "execution_count": 30,
     "metadata": {},
     "output_type": "execute_result"
    }
   ],
   "source": [
    "(n+1) - np.ceil((n+1) * norm.cdf(2.5))"
   ]
  },
  {
   "cell_type": "code",
   "execution_count": 31,
   "metadata": {
    "collapsed": false
   },
   "outputs": [
    {
     "data": {
      "text/plain": [
       "62.0"
      ]
     },
     "execution_count": 31,
     "metadata": {},
     "output_type": "execute_result"
    }
   ],
   "source": [
    "np.floor((1-norm.cdf(2.5))*(n+1))"
   ]
  }
 ],
 "metadata": {
  "hide_input": false,
  "kernelspec": {
   "display_name": "Python [conda root]",
   "language": "python",
   "name": "conda-root-py"
  },
  "language_info": {
   "codemirror_mode": {
    "name": "ipython",
    "version": 3
   },
   "file_extension": ".py",
   "mimetype": "text/x-python",
   "name": "python",
   "nbconvert_exporter": "python",
   "pygments_lexer": "ipython3",
   "version": "3.5.2"
  },
  "toc": {
   "nav_menu": {
    "height": "12px",
    "width": "252px"
   },
   "navigate_menu": true,
   "number_sections": true,
   "sideBar": true,
   "threshold": 4,
   "toc_cell": true,
   "toc_section_display": "block",
   "toc_window_display": false
  }
 },
 "nbformat": 4,
 "nbformat_minor": 2
}
