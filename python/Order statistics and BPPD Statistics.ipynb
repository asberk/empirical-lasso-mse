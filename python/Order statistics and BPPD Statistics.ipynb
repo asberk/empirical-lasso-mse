{
 "cells": [
  {
   "cell_type": "markdown",
   "metadata": {
    "toc": "true"
   },
   "source": [
    "# Table of Contents\n",
    " <p><div class=\"lev1 toc-item\"><a href=\"#Description\" data-toc-modified-id=\"Description-1\"><span class=\"toc-item-num\">1&nbsp;&nbsp;</span>Description</a></div><div class=\"lev1 toc-item\"><a href=\"#Import-packages\" data-toc-modified-id=\"Import-packages-2\"><span class=\"toc-item-num\">2&nbsp;&nbsp;</span>Import packages</a></div><div class=\"lev1 toc-item\"><a href=\"#Compute-$z$,-$q$-and-statistics\" data-toc-modified-id=\"Compute-$z$,-$q$-and-statistics-3\"><span class=\"toc-item-num\">3&nbsp;&nbsp;</span>Compute <span class=\"MathJax_Preview\" style=\"color: inherit; display: none;\"></span><span class=\"MathJax\" id=\"MathJax-Element-5-Frame\" tabindex=\"0\" data-mathml=\"<math xmlns=&quot;http://www.w3.org/1998/Math/MathML&quot;><mi>z</mi></math>\" role=\"presentation\" style=\"position: relative;\"><nobr aria-hidden=\"true\"><span class=\"math\" id=\"MathJax-Span-13\" style=\"width: 0.482em; display: inline-block;\"><span style=\"display: inline-block; position: relative; width: 0.386em; height: 0px; font-size: 120%;\"><span style=\"position: absolute; clip: rect(1.829em 1000.39em 2.534em -999.998em); top: -2.338em; left: 0em;\"><span class=\"mrow\" id=\"MathJax-Span-14\"><span class=\"mi\" id=\"MathJax-Span-15\" style=\"font-family: STIXMathJax_Main-italic;\">z</span></span><span style=\"display: inline-block; width: 0px; height: 2.341em;\"></span></span></span><span style=\"display: inline-block; overflow: hidden; vertical-align: -0.152em; border-left: 0px solid; width: 0px; height: 0.694em;\"></span></span></nobr><span class=\"MJX_Assistive_MathML\" role=\"presentation\"><math xmlns=\"http://www.w3.org/1998/Math/MathML\"><mi>z</mi></math></span></span><script type=\"math/tex\" id=\"MathJax-Element-5\">z</script>, <span class=\"MathJax_Preview\" style=\"color: inherit; display: none;\"></span><span class=\"MathJax\" id=\"MathJax-Element-6-Frame\" tabindex=\"0\" data-mathml=\"<math xmlns=&quot;http://www.w3.org/1998/Math/MathML&quot;><mi>q</mi></math>\" role=\"presentation\" style=\"position: relative;\"><nobr aria-hidden=\"true\"><span class=\"math\" id=\"MathJax-Span-16\" style=\"width: 0.643em; display: inline-block;\"><span style=\"display: inline-block; position: relative; width: 0.514em; height: 0px; font-size: 120%;\"><span style=\"position: absolute; clip: rect(1.796em 1000.51em 2.662em -999.998em); top: -2.338em; left: 0em;\"><span class=\"mrow\" id=\"MathJax-Span-17\"><span class=\"mi\" id=\"MathJax-Span-18\" style=\"font-family: STIXMathJax_Main-italic;\">q</span></span><span style=\"display: inline-block; width: 0px; height: 2.341em;\"></span></span></span><span style=\"display: inline-block; overflow: hidden; vertical-align: -0.306em; border-left: 0px solid; width: 0px; height: 0.848em;\"></span></span></nobr><span class=\"MJX_Assistive_MathML\" role=\"presentation\"><math xmlns=\"http://www.w3.org/1998/Math/MathML\"><mi>q</mi></math></span></span><script type=\"math/tex\" id=\"MathJax-Element-6\">q</script> and statistics</a></div><div class=\"lev2 toc-item\"><a href=\"#Plotting-the-results\" data-toc-modified-id=\"Plotting-the-results-31\"><span class=\"toc-item-num\">3.1&nbsp;&nbsp;</span>Plotting the results</a></div><div class=\"lev1 toc-item\"><a href=\"#Empirical-determination-of-growth-order\" data-toc-modified-id=\"Empirical-determination-of-growth-order-4\"><span class=\"toc-item-num\">4&nbsp;&nbsp;</span>Empirical determination of growth order</a></div><div class=\"lev2 toc-item\"><a href=\"#Plot-results\" data-toc-modified-id=\"Plot-results-41\"><span class=\"toc-item-num\">4.1&nbsp;&nbsp;</span>Plot results</a></div><div class=\"lev1 toc-item\"><a href=\"#Order-Statistics-of-$z$\" data-toc-modified-id=\"Order-Statistics-of-$z$-5\"><span class=\"toc-item-num\">5&nbsp;&nbsp;</span>Order Statistics of <span class=\"MathJax_Preview\" style=\"color: inherit; display: none;\"></span><span class=\"MathJax\" id=\"MathJax-Element-24-Frame\" tabindex=\"0\" data-mathml=\"<math xmlns=&quot;http://www.w3.org/1998/Math/MathML&quot;><mi>z</mi></math>\" role=\"presentation\" style=\"position: relative;\"><nobr aria-hidden=\"true\"><span class=\"math\" id=\"MathJax-Span-208\" style=\"width: 0.482em; display: inline-block;\"><span style=\"display: inline-block; position: relative; width: 0.386em; height: 0px; font-size: 120%;\"><span style=\"position: absolute; clip: rect(1.829em 1000.39em 2.534em -999.998em); top: -2.338em; left: 0em;\"><span class=\"mrow\" id=\"MathJax-Span-209\"><span class=\"mi\" id=\"MathJax-Span-210\" style=\"font-family: STIXMathJax_Main-italic;\">z</span></span><span style=\"display: inline-block; width: 0px; height: 2.341em;\"></span></span></span><span style=\"display: inline-block; overflow: hidden; vertical-align: -0.152em; border-left: 0px solid; width: 0px; height: 0.694em;\"></span></span></nobr><span class=\"MJX_Assistive_MathML\" role=\"presentation\"><math xmlns=\"http://www.w3.org/1998/Math/MathML\"><mi>z</mi></math></span></span><script type=\"math/tex\" id=\"MathJax-Element-24\">z</script></a></div><div class=\"lev2 toc-item\"><a href=\"#Approximating-growth-rate-of-&quot;remainder&quot;-term\" data-toc-modified-id=\"Approximating-growth-rate-of-&quot;remainder&quot;-term-51\"><span class=\"toc-item-num\">5.1&nbsp;&nbsp;</span>Approximating growth rate of \"remainder\" term</a></div><div class=\"lev2 toc-item\"><a href=\"#Integral-of-normal-ppf\" data-toc-modified-id=\"Integral-of-normal-ppf-52\"><span class=\"toc-item-num\">5.2&nbsp;&nbsp;</span>Integral of normal ppf</a></div><div class=\"lev2 toc-item\"><a href=\"#What-does-the-pair-wise-difference-of-the-probabilities-look-like?\" data-toc-modified-id=\"What-does-the-pair-wise-difference-of-the-probabilities-look-like?-53\"><span class=\"toc-item-num\">5.3&nbsp;&nbsp;</span>What does the pair-wise difference of the probabilities look like?</a></div><div class=\"lev2 toc-item\"><a href=\"#Trying-to-estimate-using-inverse-CDF\" data-toc-modified-id=\"Trying-to-estimate-using-inverse-CDF-54\"><span class=\"toc-item-num\">5.4&nbsp;&nbsp;</span>Trying to estimate using inverse CDF</a></div><div class=\"lev1 toc-item\"><a href=\"#minimum-of-$z$\" data-toc-modified-id=\"minimum-of-$z$-6\"><span class=\"toc-item-num\">6&nbsp;&nbsp;</span>minimum of <span class=\"MathJax_Preview\" style=\"color: inherit; display: none;\"></span><span class=\"MathJax\" id=\"MathJax-Element-25-Frame\" tabindex=\"0\" data-mathml=\"<math xmlns=&quot;http://www.w3.org/1998/Math/MathML&quot;><mi>z</mi></math>\" role=\"presentation\" style=\"position: relative;\"><nobr aria-hidden=\"true\"><span class=\"math\" id=\"MathJax-Span-211\" style=\"width: 0.482em; display: inline-block;\"><span style=\"display: inline-block; position: relative; width: 0.386em; height: 0px; font-size: 120%;\"><span style=\"position: absolute; clip: rect(1.829em 1000.39em 2.534em -999.998em); top: -2.338em; left: 0em;\"><span class=\"mrow\" id=\"MathJax-Span-212\"><span class=\"mi\" id=\"MathJax-Span-213\" style=\"font-family: STIXMathJax_Main-italic;\">z</span></span><span style=\"display: inline-block; width: 0px; height: 2.341em;\"></span></span></span><span style=\"display: inline-block; overflow: hidden; vertical-align: -0.152em; border-left: 0px solid; width: 0px; height: 0.694em;\"></span></span></nobr><span class=\"MJX_Assistive_MathML\" role=\"presentation\"><math xmlns=\"http://www.w3.org/1998/Math/MathML\"><mi>z</mi></math></span></span><script type=\"math/tex\" id=\"MathJax-Element-25\">z</script></a></div>"
   ]
  },
  {
   "cell_type": "markdown",
   "metadata": {},
   "source": [
    "# Description"
   ]
  },
  {
   "cell_type": "code",
   "execution_count": null,
   "metadata": {
    "collapsed": true
   },
   "outputs": [],
   "source": []
  },
  {
   "cell_type": "markdown",
   "metadata": {},
   "source": [
    "# Import packages"
   ]
  },
  {
   "cell_type": "code",
   "execution_count": 1,
   "metadata": {
    "collapsed": false,
    "scrolled": true
   },
   "outputs": [
    {
     "name": "stdout",
     "output_type": "stream",
     "text": [
      "Populating the interactive namespace from numpy and matplotlib\n"
     ]
    }
   ],
   "source": [
    "%pylab inline"
   ]
  },
  {
   "cell_type": "code",
   "execution_count": 2,
   "metadata": {
    "collapsed": true
   },
   "outputs": [],
   "source": [
    "import matplotlib.patches as mpatch"
   ]
  },
  {
   "cell_type": "code",
   "execution_count": 3,
   "metadata": {
    "collapsed": true
   },
   "outputs": [],
   "source": [
    "import json\n",
    "import jsonWrite"
   ]
  },
  {
   "cell_type": "code",
   "execution_count": 4,
   "metadata": {
    "collapsed": false
   },
   "outputs": [
    {
     "name": "stdout",
     "output_type": "stream",
     "text": [
      "trying alternative import for spgl1...success!\n"
     ]
    }
   ],
   "source": [
    "import pdmse\n",
    "from scaling_of_residual import bppdStats"
   ]
  },
  {
   "cell_type": "markdown",
   "metadata": {},
   "source": [
    "# Compute $z$, $q$ and statistics"
   ]
  },
  {
   "cell_type": "markdown",
   "metadata": {},
   "source": [
    "$z$ and $q$ are computed so that $\\|z\\|_2^2 \\geq N + \\sqrt N$ and $\\|q\\|_2^2 \\leq N$. In fact, in this case I think we should always have $\\|q\\|_2^2 = N$ and will have $\\|q_{T^C}\\|_2^2 \\approx N$. "
   ]
  },
  {
   "cell_type": "markdown",
   "metadata": {},
   "source": [
    "Load the data if we have it saved somewhere, otherwise compute it. Also set a flag for whether we want to save the data. See note below on saving the result..."
   ]
  },
  {
   "cell_type": "code",
   "execution_count": 5,
   "metadata": {
    "collapsed": true
   },
   "outputs": [],
   "source": [
    "doSave = False\n",
    "doCompute = True"
   ]
  },
  {
   "cell_type": "markdown",
   "metadata": {},
   "source": [
    "The computation takes a bit of time, but not a tonne. "
   ]
  },
  {
   "cell_type": "code",
   "execution_count": 6,
   "metadata": {
    "collapsed": false
   },
   "outputs": [
    {
     "name": "stdout",
     "output_type": "stream",
     "text": [
      "1 of 4\n",
      "2 of 4\n",
      "3 of 4\n",
      "4 of 4\n"
     ]
    }
   ],
   "source": [
    "fn = '../data/bppd-thresh_sqrt_n-noise_gtr_n_plus_sqrt_n.json'\n",
    "\n",
    "if doCompute:\n",
    "    Z = {}\n",
    "    Q = {}\n",
    "    logNmax = 4\n",
    "    for j in range(1,logNmax+1):\n",
    "        print('{} of {}'.format(j, logNmax))\n",
    "        Z[10**j], Q[10**j] = bppdStats(n=10**j, k=1000)\n",
    "else:\n",
    "    with open(fn, 'r+', encoding='utf-8') as fp:\n",
    "        bppdDict = json.load(fp)\n",
    "    Z = np.array(bppdDict['Z'])\n",
    "    Q = np.array(bppdDict['Q'])"
   ]
  },
  {
   "cell_type": "markdown",
   "metadata": {},
   "source": [
    "<font style='color:#DD0000;'>Warning:</font> if we decide to save this file it's about 8.15 GB!"
   ]
  },
  {
   "cell_type": "code",
   "execution_count": 7,
   "metadata": {
    "collapsed": false
   },
   "outputs": [],
   "source": [
    "if doSave:\n",
    "    import jsonWrite\n",
    "    Z_json = {}\n",
    "    Q_json = {}\n",
    "    for (kz,vz), (kq, vq) in zip(Z.items(), Q.items()):\n",
    "        Z_json[kz] = vz.tolist()\n",
    "        Q_json[kq] = vq.tolist()\n",
    "    print('writing to json...', end='')\n",
    "    jsonWrite.dict(fn, {'Z': Z_json, 'Q': Q_json})\n",
    "    print('done!')\n",
    "    del Z_json, Q_json"
   ]
  },
  {
   "cell_type": "markdown",
   "metadata": {},
   "source": [
    "Compute the error vector, $z + q$ between $\\tilde x$ and $x$. "
   ]
  },
  {
   "cell_type": "code",
   "execution_count": 8,
   "metadata": {
    "collapsed": false
   },
   "outputs": [],
   "source": [
    "err_Tc = {}\n",
    "for (kz, vz), (kq, vq) in zip(Z.items(), Q.items()):\n",
    "    err_Tc[kz] = (vz+vq)[:-1, :]"
   ]
  },
  {
   "cell_type": "markdown",
   "metadata": {},
   "source": [
    "Compute the MSE."
   ]
  },
  {
   "cell_type": "code",
   "execution_count": 9,
   "metadata": {
    "collapsed": true
   },
   "outputs": [],
   "source": [
    "mse_Tc = {}\n",
    "for k, v in err_Tc.items():\n",
    "    mse_Tc[k] = np.linalg.norm(v, axis=0)**2"
   ]
  },
  {
   "cell_type": "markdown",
   "metadata": {},
   "source": [
    "## Plotting the results"
   ]
  },
  {
   "cell_type": "markdown",
   "metadata": {},
   "source": [
    "Make a histogram stratified by dimension."
   ]
  },
  {
   "cell_type": "code",
   "execution_count": 10,
   "metadata": {
    "collapsed": true
   },
   "outputs": [],
   "source": [
    "logNvec = 1 + np.arange(logNmax)\n",
    "Nvec = 10**logNvec"
   ]
  },
  {
   "cell_type": "code",
   "execution_count": 11,
   "metadata": {
    "collapsed": false
   },
   "outputs": [
    {
     "data": {
      "image/png": "[encoded data removed]",
      "text/plain": [
       "<matplotlib.figure.Figure at 0x1047c0cc0>"
      ]
     },
     "metadata": {},
     "output_type": "display_data"
    }
   ],
   "source": [
    "plt.subplots(figsize=(15,6));\n",
    "plt.subplot(121);\n",
    "plt.hist(np.concatenate([np.c_[np.log1p(mse_Tc[N])] for N in Nvec], axis=1), label=[str(N) for N in Nvec], stacked=False, normed=True);\n",
    "#plt.legend(ncol=2, framealpha=.8);\n",
    "#plt.xscale('log');\n",
    "plt.title('histogram of MSE stratified by dimension');\n",
    "plt.xlabel('MSE');\n",
    "plt.subplot(122);\n",
    "plt.hist(np.concatenate([np.c_[np.log1p(mse_Tc[N])] for N in Nvec], axis=1), label=[str(N) for N in Nvec], stacked=True, normed=True);\n",
    "plt.legend(ncol=2, loc=1);\n",
    "#plt.xscale('log');\n",
    "plt.title('histogram of MSE stratified by dimension');\n",
    "plt.xlabel('MSE');"
   ]
  },
  {
   "cell_type": "markdown",
   "metadata": {},
   "source": [
    "Print the mean MSE for each dimension"
   ]
  },
  {
   "cell_type": "code",
   "execution_count": 12,
   "metadata": {
    "collapsed": false
   },
   "outputs": [
    {
     "name": "stdout",
     "output_type": "stream",
     "text": [
      "   mean_10 = 1.8186067450213472\n",
      "  mean_100 = 3.7973444601291297\n",
      " mean_1000 = 8.561545557469108\n",
      "mean_10000 = 19.5575286109906\n"
     ]
    }
   ],
   "source": [
    "for k,v in sorted(mse_Tc.items(), key=lambda x: x[0]):\n",
    "    print(' '*(logNmax-int(log10(k))) + \\\n",
    "          'mean_{} = {}'.format(k, v.mean()))"
   ]
  },
  {
   "cell_type": "markdown",
   "metadata": {},
   "source": [
    "Below is plotted the MSE for each realization/sample scaled by some power of $N$: $N^{1/4}, N^{1/3}, N^{1/2}$. \n",
    "\n",
    "Because the $N^{1/3}$ scaling grows but  the $N^{1/2}$ scaling shrinks toward $0$, we should expect something like \n",
    "$$\\mathbb{E} \\|\\tilde x - x\\|_2^2 = \\Omega(N^{1/3}).$$"
   ]
  },
  {
   "cell_type": "code",
   "execution_count": 13,
   "metadata": {
    "collapsed": false
   },
   "outputs": [
    {
     "data": {
      "image/png": "[encoded data removed]",
      "text/plain": [
       "<matplotlib.figure.Figure at 0x11d7d68d0>"
      ]
     },
     "metadata": {},
     "output_type": "display_data"
    }
   ],
   "source": [
    "plt.figure(figsize=(10,6));\n",
    "for k,v in mse_Tc.items():\n",
    "    plt.subplot(311)\n",
    "    plt.plot([k for _ in range(len(v))], v/k**.25, '.', color=(.8,0,.2,.1));\n",
    "    plt.xscale('log');\n",
    "    plt.xlim(xmin=10**0, xmax=10**6);\n",
    "\n",
    "    plt.subplot(312)\n",
    "    plt.plot([k for _ in range(len(v))], v/k**(1/3), '.', color=(0,.5,.8,.1));\n",
    "    plt.xscale('log');\n",
    "    plt.xlim(xmin=10**0, xmax=10**6);\n",
    "    \n",
    "    plt.subplot(313)\n",
    "    plt.plot([k for _ in range(len(v))], v/k**.5, '.', color=(.2,0,.8,.1));\n",
    "    plt.xscale('log');\n",
    "    plt.xlim(xmin=10**0, xmax=10**6);\n",
    "    \n",
    "plt.subplot(313);\n",
    "p1 = mpatch.Rectangle((0,0), 10,10,color=(.8,0,.2,1), label='$N^{1/4}$')\n",
    "p2 = mpatch.Rectangle((0,0), 10,10,color=(0,0.5,.8,1), label='$N^{1/3}$')\n",
    "p3 = mpatch.Rectangle((0,0), 10,10,color=(.2,0,.8,1), label='$N^{1/2}$')\n",
    "plt.legend(handles=[p1,p2,p3]);"
   ]
  },
  {
   "cell_type": "markdown",
   "metadata": {},
   "source": [
    "# Empirical determination of growth order"
   ]
  },
  {
   "cell_type": "markdown",
   "metadata": {},
   "source": [
    "In this section we use `scipy` to determine least-squares fit to the growth. "
   ]
  },
  {
   "cell_type": "code",
   "execution_count": 14,
   "metadata": {
    "collapsed": true
   },
   "outputs": [],
   "source": [
    "from scipy.optimize import least_squares"
   ]
  },
  {
   "cell_type": "code",
   "execution_count": 15,
   "metadata": {
    "collapsed": false
   },
   "outputs": [
    {
     "data": {
      "image/png": "[encoded data removed]",
      "text/plain": [
       "<matplotlib.figure.Figure at 0x11f8e0860>"
      ]
     },
     "metadata": {},
     "output_type": "display_data"
    }
   ],
   "source": [
    "plt.figure(figsize=(10,5));\n",
    "for k,v in mse_Tc.items():\n",
    "    plt.plot([k for _ in range(len(v))], v, '.', color=(.8,0,.2,.01));\n",
    "\n",
    "plt.xscale('log');\n",
    "plt.yscale('log');\n",
    "plt.xlim(xmin=10**0, xmax=10**6);\n",
    "plt.ylim(ymin=10**-1.5, ymax=10**2.5);"
   ]
  },
  {
   "cell_type": "code",
   "execution_count": 16,
   "metadata": {
    "collapsed": false
   },
   "outputs": [],
   "source": [
    "def PolyExp(w,t,printCF=False):\n",
    "    if printCF:\n",
    "        print('({:5.4} * t^{:5.4}+{:5.4}) * exp({:5.4})'.format(*w))\n",
    "        return\n",
    "    return (w[0] * t ** w[1] + w[2]) * np.exp(w[3]*t)\n",
    "\n",
    "\n",
    "def Poly(w,t, printCF=False):\n",
    "    if printCF:\n",
    "        print('{:5.4} * t^{:5.4}+{:5.4}'.format(*w))\n",
    "        return\n",
    "    return (w[0] * t ** w[1] + w[2])"
   ]
  },
  {
   "cell_type": "code",
   "execution_count": 17,
   "metadata": {
    "collapsed": false
   },
   "outputs": [],
   "source": [
    "def candidateLoss(w, x, y, candidateFunc=Poly):\n",
    "    return candidateFunc(w, x) - y"
   ]
  },
  {
   "cell_type": "markdown",
   "metadata": {},
   "source": [
    "Repeat `logNvec` so that we can be 1-for-1 with the $y$ data."
   ]
  },
  {
   "cell_type": "code",
   "execution_count": 18,
   "metadata": {
    "collapsed": false
   },
   "outputs": [
    {
     "data": {
      "text/plain": [
       "array([1, 1, 1, 1, 1])"
      ]
     },
     "execution_count": 18,
     "metadata": {},
     "output_type": "execute_result"
    }
   ],
   "source": [
    "logNtrain = logNvec.repeat((1000))\n",
    "logNtrain[:5]"
   ]
  },
  {
   "cell_type": "markdown",
   "metadata": {},
   "source": [
    "Glue the MSE vectors together as columns. "
   ]
  },
  {
   "cell_type": "code",
   "execution_count": 19,
   "metadata": {
    "collapsed": false
   },
   "outputs": [
    {
     "data": {
      "text/plain": [
       "(1000, 4)"
      ]
     },
     "execution_count": 19,
     "metadata": {},
     "output_type": "execute_result"
    }
   ],
   "source": [
    "mseTc_train = np.concatenate([np.c_[mse_Tc[N]] for N in Nvec], axis=1)\n",
    "mseTc_train.shape"
   ]
  },
  {
   "cell_type": "markdown",
   "metadata": {},
   "source": [
    "Sort the MSE matrix so that we can use it to draw pretty plot lines later."
   ]
  },
  {
   "cell_type": "code",
   "execution_count": 20,
   "metadata": {
    "collapsed": true
   },
   "outputs": [],
   "source": [
    "mseTc_sorted = np.sort(mseTc_train, axis=0)"
   ]
  },
  {
   "cell_type": "markdown",
   "metadata": {},
   "source": [
    "Ravel the MSE matrix into a vector (and do so in a way that is consistent with how `logNtrain` was defined).  \n",
    "Note: `y_train` $= \\log(1 + \\|(z + q)_{T^C}\\|_2^2)$."
   ]
  },
  {
   "cell_type": "code",
   "execution_count": 21,
   "metadata": {
    "collapsed": false
   },
   "outputs": [],
   "source": [
    "x_train = logNtrain\n",
    "y_train = np.log1p(mseTc_train.T.ravel())"
   ]
  },
  {
   "cell_type": "markdown",
   "metadata": {},
   "source": [
    "Initialization point for the optimization."
   ]
  },
  {
   "cell_type": "code",
   "execution_count": 22,
   "metadata": {
    "collapsed": true
   },
   "outputs": [],
   "source": [
    "w0 = np.ones(3)"
   ]
  },
  {
   "cell_type": "code",
   "execution_count": 23,
   "metadata": {
    "collapsed": false
   },
   "outputs": [],
   "source": [
    "res_robust = least_squares(candidateLoss, w0, loss='soft_l1', f_scale=.1, args=(x_train, y_train))"
   ]
  },
  {
   "cell_type": "code",
   "execution_count": 24,
   "metadata": {
    "collapsed": false
   },
   "outputs": [
    {
     "name": "stdout",
     "output_type": "stream",
     "text": [
      "0.3324 * t^1.403+0.591\n"
     ]
    }
   ],
   "source": [
    "Poly(res_robust.x, [], printCF=True)"
   ]
  },
  {
   "cell_type": "markdown",
   "metadata": {},
   "source": [
    "## Plot results"
   ]
  },
  {
   "cell_type": "code",
   "execution_count": 25,
   "metadata": {
    "collapsed": false
   },
   "outputs": [],
   "source": [
    "x_test = np.linspace(.5, logNmax+.5, 101)\n",
    "y_pred = Poly(res_robust.x, x_test)"
   ]
  },
  {
   "cell_type": "code",
   "execution_count": 26,
   "metadata": {
    "collapsed": false
   },
   "outputs": [
    {
     "data": {
      "image/png": "[encoded data removed]",
      "text/plain": [
       "<matplotlib.figure.Figure at 0x11f8df5c0>"
      ]
     },
     "metadata": {},
     "output_type": "display_data"
    }
   ],
   "source": [
    "# See if we can get an analytic approximation to the lines\n",
    "plt.plot(x_test, y_pred, 'k--', linewidth=2)\n",
    "plt.plot(logNvec, np.log1p(mseTc_sorted.T), alpha=.01, color=(0, 0.45, .8));\n",
    "plt.plot(logNvec, logNvec, color=(.6, 0, .2));\n",
    "plt.yscale('log');\n",
    "plt.ylim(ymin=10**(-2), ymax=10**1);"
   ]
  },
  {
   "cell_type": "markdown",
   "metadata": {},
   "source": [
    "# Order Statistics of $z$"
   ]
  },
  {
   "cell_type": "code",
   "execution_count": 27,
   "metadata": {
    "collapsed": true
   },
   "outputs": [],
   "source": [
    "from scipy.stats import norm"
   ]
  },
  {
   "cell_type": "code",
   "execution_count": 28,
   "metadata": {
    "collapsed": false
   },
   "outputs": [
    {
     "name": "stdout",
     "output_type": "stream",
     "text": [
      "zz.shape = (100, 1000)\n",
      "qq.shape = (100, 1000)\n"
     ]
    }
   ],
   "source": [
    "n = 100\n",
    "\n",
    "zz = Z[n]\n",
    "qq = Q[n]\n",
    "print('zz.shape = {}\\nqq.shape = {}'.format(zz.shape, qq.shape));"
   ]
  },
  {
   "cell_type": "code",
   "execution_count": 29,
   "metadata": {
    "collapsed": true
   },
   "outputs": [],
   "source": [
    "J = np.argsort(zz[:-1,0]) # reordering for increasing order\n",
    "p_j = norm.cdf(zz[:-1,0]) # corresponding probabilities for CDF at jth ordered sample"
   ]
  },
  {
   "cell_type": "code",
   "execution_count": 30,
   "metadata": {
    "collapsed": false
   },
   "outputs": [
    {
     "data": {
      "image/png": "[encoded data removed]",
      "text/plain": [
       "<matplotlib.figure.Figure at 0x122565f98>"
      ]
     },
     "metadata": {},
     "output_type": "display_data"
    }
   ],
   "source": [
    "plt.figure(figsize=(10,4), )\n",
    "plt.stem(p_j[J], -qq[:-1,0][J],linefmt='r-', markerfmt='ro');\n",
    "#plt.stem(p_j[J], zz[:-1,0][J]);\n",
    "plt.plot(np.linspace(0, 1, 1001), norm.ppf(np.linspace(0,1,1001)), 'c--', lw=3);\n"
   ]
  },
  {
   "cell_type": "markdown",
   "metadata": {},
   "source": [
    "## Approximating growth rate of \"remainder\" term"
   ]
  },
  {
   "cell_type": "markdown",
   "metadata": {},
   "source": [
    "In the problem at hand, we assume \n",
    "$$\n",
    "\\langle S_\\lambda (z) , z \\rangle = \\|z_U\\|_2^2 - \\lambda \\|z_U\\|_1 \\geq \\sqrt n\n",
    "$$\n",
    "and are interested in determining a rate of growth for\n",
    "$$\n",
    "\\|S_\\lambda(z)\\|_2^2 = \\|z_U\\|_2^2 - 2 \\lambda \\|z_U\\|_1 + \\lambda^2 |U|\n",
    "\\geq \\sqrt n - \\lambda \\|z_U\\|_1 + \\lambda^2 |U|\n",
    "$$"
   ]
  },
  {
   "cell_type": "markdown",
   "metadata": {},
   "source": [
    "Hence, for any $\\lambda > 0$, we are interested in a lower bound on the quantity\n",
    "$$\n",
    "\\lambda |U| - \\|z_U\\|_1\n",
    "$$\n",
    "where \n",
    "$$\n",
    "U := \\{ j \\in [n] : |z_j| > \\lambda \\}\n",
    "$$"
   ]
  },
  {
   "cell_type": "markdown",
   "metadata": {},
   "source": [
    "Note that this means\n",
    "$$\n",
    "\\|S_\\lambda(z)\\|_2^2 \\geq \\sqrt n - \\lambda \\|S_\\lambda(z)\\|_1\n",
    "$$"
   ]
  },
  {
   "cell_type": "code",
   "execution_count": 148,
   "metadata": {
    "collapsed": false
   },
   "outputs": [],
   "source": [
    "n = 1000\n",
    "lam = 2.5\n",
    "z = np.random.randn(n)\n",
    "zThresh = pdmse.softThresh(z, lam)\n",
    "while np.dot(zThresh, z) < np.sqrt(n):\n",
    "    z = np.random.randn(n)\n",
    "    zThresh = pdmse.softThresh(z, lam)"
   ]
  },
  {
   "cell_type": "markdown",
   "metadata": {},
   "source": [
    "Sanity check:"
   ]
  },
  {
   "cell_type": "code",
   "execution_count": 149,
   "metadata": {
    "collapsed": false
   },
   "outputs": [
    {
     "name": "stdout",
     "output_type": "stream",
     "text": [
      "<S(z), z> = 35.02563282770598\n",
      "  sqrt(n) = 31.622776601683793\n"
     ]
    }
   ],
   "source": [
    "print('<S(z), z> = {}\\n  sqrt(n) = {}'.format(np.dot(zThresh, z), np.sqrt(n)))"
   ]
  },
  {
   "cell_type": "code",
   "execution_count": 150,
   "metadata": {
    "collapsed": true
   },
   "outputs": [],
   "source": [
    "U = np.where(np.abs(zThresh) > 0)[0]\n",
    "zU = z[U]"
   ]
  },
  {
   "cell_type": "code",
   "execution_count": 151,
   "metadata": {
    "collapsed": false
   },
   "outputs": [
    {
     "data": {
      "text/plain": [
       "9.1834584191926911"
      ]
     },
     "execution_count": 151,
     "metadata": {},
     "output_type": "execute_result"
    }
   ],
   "source": [
    "np.dot(zThresh, zThresh)"
   ]
  },
  {
   "cell_type": "code",
   "execution_count": 152,
   "metadata": {
    "collapsed": false
   },
   "outputs": [
    {
     "data": {
      "text/plain": [
       "9.1834584191927604"
      ]
     },
     "execution_count": 152,
     "metadata": {},
     "output_type": "execute_result"
    }
   ],
   "source": [
    "np.dot(zU, zU) - 2 * lam * np.linalg.norm(zU, 1) + lam**2 * U.size"
   ]
  },
  {
   "cell_type": "code",
   "execution_count": 153,
   "metadata": {
    "collapsed": false
   },
   "outputs": [
    {
     "data": {
      "text/plain": [
       "5.780602193170548"
      ]
     },
     "execution_count": 153,
     "metadata": {},
     "output_type": "execute_result"
    }
   ],
   "source": [
    "sqrt(n) - (lam * np.linalg.norm(zU, 1) - lam**2 * U.size)"
   ]
  },
  {
   "cell_type": "code",
   "execution_count": 154,
   "metadata": {
    "collapsed": false
   },
   "outputs": [
    {
     "data": {
      "text/plain": [
       "5.7806021931705054"
      ]
     },
     "execution_count": 154,
     "metadata": {},
     "output_type": "execute_result"
    }
   ],
   "source": [
    "sqrt(n) - lam * np.linalg.norm(zThresh, 1)"
   ]
  },
  {
   "cell_type": "markdown",
   "metadata": {},
   "source": [
    "So let's find $\\lambda > 0$ such that $\\lambda \\|S_\\lambda(z)\\|_1 \\leq \\sqrt n$. "
   ]
  },
  {
   "cell_type": "markdown",
   "metadata": {},
   "source": [
    "$\\|S_\\lambda (z) \\|_1 =  \\|z_U\\|_1 - \\lambda |U| \\leq \\ldots \\leq \\sqrt{n/\\lambda^2}$"
   ]
  },
  {
   "cell_type": "code",
   "execution_count": 165,
   "metadata": {
    "collapsed": true
   },
   "outputs": [],
   "source": [
    "lamVec = np.linspace(0, 3, 1001)\n",
    "zThreshOneNorm = np.zeros(1001)"
   ]
  },
  {
   "cell_type": "code",
   "execution_count": 166,
   "metadata": {
    "collapsed": false
   },
   "outputs": [
    {
     "name": "stdout",
     "output_type": "stream",
     "text": [
      "0 of 1001\n",
      "100 of 1001\n",
      "200 of 1001\n",
      "300 of 1001\n",
      "400 of 1001\n",
      "500 of 1001\n",
      "600 of 1001\n",
      "700 of 1001\n",
      "Maximum number of iterations reached after 999 samples.\n",
      "Maximum number of iterations reached after 947 samples.\n",
      "Maximum number of iterations reached after 940 samples.\n",
      "Maximum number of iterations reached after 923 samples.\n",
      "Maximum number of iterations reached after 960 samples.\n",
      "Maximum number of iterations reached after 838 samples.\n",
      "Maximum number of iterations reached after 949 samples.\n",
      "Maximum number of iterations reached after 822 samples.\n",
      "Maximum number of iterations reached after 890 samples.\n",
      "Maximum number of iterations reached after 869 samples.\n",
      "Maximum number of iterations reached after 856 samples.\n",
      "Maximum number of iterations reached after 760 samples.\n",
      "Maximum number of iterations reached after 756 samples.\n",
      "Maximum number of iterations reached after 728 samples.\n",
      "Maximum number of iterations reached after 793 samples.\n",
      "Maximum number of iterations reached after 755 samples.\n",
      "Maximum number of iterations reached after 714 samples.\n",
      "Maximum number of iterations reached after 701 samples.\n",
      "Maximum number of iterations reached after 670 samples.\n",
      "Maximum number of iterations reached after 718 samples.\n",
      "Maximum number of iterations reached after 628 samples.\n",
      "Maximum number of iterations reached after 589 samples.\n",
      "Maximum number of iterations reached after 654 samples.\n",
      "Maximum number of iterations reached after 644 samples.\n",
      "Maximum number of iterations reached after 590 samples.\n",
      "Maximum number of iterations reached after 622 samples.\n",
      "Maximum number of iterations reached after 575 samples.\n",
      "Maximum number of iterations reached after 570 samples.\n",
      "Maximum number of iterations reached after 623 samples.\n",
      "Maximum number of iterations reached after 547 samples.\n",
      "Maximum number of iterations reached after 530 samples.\n",
      "Maximum number of iterations reached after 503 samples.\n",
      "Maximum number of iterations reached after 503 samples.\n",
      "Maximum number of iterations reached after 525 samples.\n",
      "Maximum number of iterations reached after 506 samples.\n",
      "Maximum number of iterations reached after 473 samples.\n",
      "Maximum number of iterations reached after 482 samples.\n",
      "Maximum number of iterations reached after 457 samples.\n",
      "Maximum number of iterations reached after 417 samples.\n",
      "Maximum number of iterations reached after 446 samples.\n",
      "Maximum number of iterations reached after 428 samples.\n",
      "Maximum number of iterations reached after 437 samples.\n",
      "Maximum number of iterations reached after 397 samples.\n",
      "Maximum number of iterations reached after 382 samples.\n",
      "Maximum number of iterations reached after 431 samples.\n",
      "Maximum number of iterations reached after 381 samples.\n",
      "800 of 1001\n",
      "Maximum number of iterations reached after 370 samples.\n",
      "Maximum number of iterations reached after 379 samples.\n",
      "Maximum number of iterations reached after 366 samples.\n",
      "Maximum number of iterations reached after 324 samples.\n",
      "Maximum number of iterations reached after 317 samples.\n",
      "Maximum number of iterations reached after 338 samples.\n",
      "Maximum number of iterations reached after 341 samples.\n",
      "Maximum number of iterations reached after 348 samples.\n",
      "Maximum number of iterations reached after 326 samples.\n",
      "Maximum number of iterations reached after 288 samples.\n",
      "Maximum number of iterations reached after 280 samples.\n",
      "Maximum number of iterations reached after 318 samples.\n",
      "Maximum number of iterations reached after 285 samples.\n",
      "Maximum number of iterations reached after 289 samples.\n",
      "Maximum number of iterations reached after 278 samples.\n",
      "Maximum number of iterations reached after 292 samples.\n",
      "Maximum number of iterations reached after 250 samples.\n",
      "Maximum number of iterations reached after 227 samples.\n",
      "Maximum number of iterations reached after 243 samples.\n",
      "Maximum number of iterations reached after 298 samples.\n",
      "Maximum number of iterations reached after 250 samples.\n",
      "Maximum number of iterations reached after 248 samples.\n",
      "Maximum number of iterations reached after 249 samples.\n",
      "Maximum number of iterations reached after 260 samples.\n",
      "Maximum number of iterations reached after 217 samples.\n",
      "Maximum number of iterations reached after 242 samples.\n",
      "Maximum number of iterations reached after 206 samples.\n",
      "Maximum number of iterations reached after 193 samples.\n",
      "Maximum number of iterations reached after 219 samples.\n",
      "Maximum number of iterations reached after 202 samples.\n",
      "Maximum number of iterations reached after 191 samples.\n",
      "Maximum number of iterations reached after 186 samples.\n",
      "Maximum number of iterations reached after 193 samples.\n",
      "Maximum number of iterations reached after 180 samples.\n",
      "Maximum number of iterations reached after 201 samples.\n",
      "Maximum number of iterations reached after 172 samples.\n",
      "Maximum number of iterations reached after 180 samples.\n",
      "Maximum number of iterations reached after 160 samples.\n",
      "Maximum number of iterations reached after 174 samples.\n",
      "Maximum number of iterations reached after 191 samples.\n",
      "Maximum number of iterations reached after 148 samples.\n",
      "Maximum number of iterations reached after 160 samples.\n",
      "Maximum number of iterations reached after 167 samples.\n",
      "Maximum number of iterations reached after 174 samples.\n",
      "Maximum number of iterations reached after 151 samples.\n",
      "Maximum number of iterations reached after 137 samples.\n",
      "Maximum number of iterations reached after 161 samples.\n",
      "Maximum number of iterations reached after 122 samples.\n",
      "Maximum number of iterations reached after 149 samples.\n",
      "Maximum number of iterations reached after 138 samples.\n",
      "Maximum number of iterations reached after 125 samples.\n",
      "Maximum number of iterations reached after 128 samples.\n",
      "Maximum number of iterations reached after 113 samples.\n",
      "Maximum number of iterations reached after 148 samples.\n",
      "Maximum number of iterations reached after 115 samples.\n",
      "Maximum number of iterations reached after 116 samples.\n",
      "Maximum number of iterations reached after 119 samples.\n",
      "Maximum number of iterations reached after 109 samples.\n",
      "Maximum number of iterations reached after 118 samples.\n",
      "Maximum number of iterations reached after 99 samples.\n",
      "Maximum number of iterations reached after 111 samples.\n",
      "Maximum number of iterations reached after 101 samples.\n",
      "Maximum number of iterations reached after 89 samples.\n",
      "Maximum number of iterations reached after 112 samples.\n",
      "Maximum number of iterations reached after 102 samples.\n",
      "Maximum number of iterations reached after 101 samples.\n",
      "Maximum number of iterations reached after 112 samples.\n",
      "Maximum number of iterations reached after 124 samples.\n",
      "Maximum number of iterations reached after 90 samples.\n",
      "Maximum number of iterations reached after 92 samples.\n",
      "Maximum number of iterations reached after 93 samples.\n",
      "Maximum number of iterations reached after 81 samples.\n",
      "Maximum number of iterations reached after 99 samples.\n",
      "Maximum number of iterations reached after 91 samples.\n",
      "Maximum number of iterations reached after 78 samples.\n",
      "Maximum number of iterations reached after 88 samples.\n",
      "Maximum number of iterations reached after 76 samples.\n",
      "Maximum number of iterations reached after 90 samples.\n",
      "Maximum number of iterations reached after 77 samples.\n",
      "Maximum number of iterations reached after 66 samples.\n",
      "Maximum number of iterations reached after 70 samples.\n",
      "Maximum number of iterations reached after 51 samples.\n",
      "Maximum number of iterations reached after 71 samples.\n",
      "Maximum number of iterations reached after 62 samples.\n",
      "Maximum number of iterations reached after 77 samples.\n",
      "Maximum number of iterations reached after 70 samples.\n",
      "Maximum number of iterations reached after 73 samples.\n",
      "Maximum number of iterations reached after 62 samples.\n",
      "Maximum number of iterations reached after 55 samples.\n",
      "Maximum number of iterations reached after 52 samples.\n",
      "Maximum number of iterations reached after 56 samples.\n",
      "Maximum number of iterations reached after 57 samples.\n",
      "Maximum number of iterations reached after 67 samples.\n",
      "Maximum number of iterations reached after 57 samples.\n",
      "Maximum number of iterations reached after 53 samples.\n",
      "Maximum number of iterations reached after 53 samples.\n",
      "Maximum number of iterations reached after 38 samples.\n",
      "Maximum number of iterations reached after 53 samples.\n",
      "Maximum number of iterations reached after 54 samples.\n",
      "Maximum number of iterations reached after 52 samples.\n",
      "900 of 1001\n",
      "Maximum number of iterations reached after 71 samples.\n",
      "Maximum number of iterations reached after 43 samples.\n",
      "Maximum number of iterations reached after 50 samples.\n",
      "Maximum number of iterations reached after 58 samples.\n",
      "Maximum number of iterations reached after 47 samples.\n",
      "Maximum number of iterations reached after 60 samples.\n",
      "Maximum number of iterations reached after 31 samples.\n",
      "Maximum number of iterations reached after 47 samples.\n",
      "Maximum number of iterations reached after 46 samples.\n",
      "Maximum number of iterations reached after 44 samples.\n",
      "Maximum number of iterations reached after 39 samples.\n",
      "Maximum number of iterations reached after 37 samples.\n",
      "Maximum number of iterations reached after 44 samples.\n",
      "Maximum number of iterations reached after 38 samples.\n",
      "Maximum number of iterations reached after 36 samples.\n",
      "Maximum number of iterations reached after 46 samples.\n",
      "Maximum number of iterations reached after 42 samples.\n",
      "Maximum number of iterations reached after 42 samples.\n",
      "Maximum number of iterations reached after 38 samples.\n",
      "Maximum number of iterations reached after 32 samples.\n",
      "Maximum number of iterations reached after 37 samples.\n",
      "Maximum number of iterations reached after 49 samples.\n",
      "Maximum number of iterations reached after 33 samples.\n",
      "Maximum number of iterations reached after 31 samples.\n",
      "Maximum number of iterations reached after 26 samples.\n",
      "Maximum number of iterations reached after 36 samples.\n",
      "Maximum number of iterations reached after 33 samples.\n",
      "Maximum number of iterations reached after 33 samples.\n",
      "Maximum number of iterations reached after 37 samples.\n",
      "Maximum number of iterations reached after 31 samples.\n",
      "Maximum number of iterations reached after 22 samples.\n",
      "Maximum number of iterations reached after 30 samples.\n",
      "Maximum number of iterations reached after 25 samples.\n",
      "Maximum number of iterations reached after 33 samples.\n",
      "Maximum number of iterations reached after 29 samples.\n",
      "Maximum number of iterations reached after 20 samples.\n",
      "Maximum number of iterations reached after 27 samples.\n",
      "Maximum number of iterations reached after 22 samples.\n",
      "Maximum number of iterations reached after 22 samples.\n",
      "Maximum number of iterations reached after 12 samples.\n",
      "Maximum number of iterations reached after 30 samples.\n",
      "Maximum number of iterations reached after 28 samples.\n",
      "Maximum number of iterations reached after 31 samples.\n",
      "Maximum number of iterations reached after 28 samples.\n",
      "Maximum number of iterations reached after 23 samples.\n",
      "Maximum number of iterations reached after 24 samples.\n",
      "Maximum number of iterations reached after 23 samples.\n",
      "Maximum number of iterations reached after 22 samples.\n",
      "Maximum number of iterations reached after 27 samples.\n",
      "Maximum number of iterations reached after 27 samples.\n",
      "Maximum number of iterations reached after 17 samples.\n",
      "Maximum number of iterations reached after 16 samples.\n",
      "Maximum number of iterations reached after 24 samples.\n",
      "Maximum number of iterations reached after 22 samples.\n",
      "Maximum number of iterations reached after 15 samples.\n",
      "Maximum number of iterations reached after 17 samples.\n",
      "Maximum number of iterations reached after 26 samples.\n",
      "Maximum number of iterations reached after 26 samples.\n",
      "Maximum number of iterations reached after 21 samples.\n",
      "Maximum number of iterations reached after 14 samples.\n",
      "Maximum number of iterations reached after 18 samples.\n",
      "Maximum number of iterations reached after 13 samples.\n",
      "Maximum number of iterations reached after 28 samples.\n",
      "Maximum number of iterations reached after 11 samples.\n",
      "Maximum number of iterations reached after 18 samples.\n",
      "Maximum number of iterations reached after 14 samples.\n",
      "Maximum number of iterations reached after 22 samples.\n",
      "Maximum number of iterations reached after 18 samples.\n",
      "Maximum number of iterations reached after 16 samples.\n",
      "Maximum number of iterations reached after 12 samples.\n",
      "Maximum number of iterations reached after 15 samples.\n",
      "Maximum number of iterations reached after 11 samples.\n",
      "Maximum number of iterations reached after 11 samples.\n",
      "Maximum number of iterations reached after 12 samples.\n",
      "Maximum number of iterations reached after 17 samples.\n",
      "Maximum number of iterations reached after 13 samples.\n",
      "Maximum number of iterations reached after 11 samples.\n",
      "Maximum number of iterations reached after 11 samples.\n",
      "Maximum number of iterations reached after 8 samples.\n",
      "Maximum number of iterations reached after 16 samples.\n",
      "Maximum number of iterations reached after 11 samples.\n",
      "Maximum number of iterations reached after 13 samples.\n",
      "Maximum number of iterations reached after 12 samples.\n",
      "Maximum number of iterations reached after 13 samples.\n",
      "Maximum number of iterations reached after 14 samples.\n",
      "Maximum number of iterations reached after 23 samples.\n",
      "Maximum number of iterations reached after 12 samples.\n",
      "Maximum number of iterations reached after 17 samples.\n",
      "Maximum number of iterations reached after 5 samples.\n",
      "Maximum number of iterations reached after 7 samples.\n",
      "Maximum number of iterations reached after 8 samples.\n",
      "Maximum number of iterations reached after 11 samples.\n",
      "Maximum number of iterations reached after 6 samples.\n",
      "Maximum number of iterations reached after 15 samples.\n",
      "Maximum number of iterations reached after 11 samples.\n",
      "Maximum number of iterations reached after 10 samples.\n",
      "Maximum number of iterations reached after 9 samples.\n",
      "Maximum number of iterations reached after 11 samples.\n",
      "Maximum number of iterations reached after 14 samples.\n",
      "Maximum number of iterations reached after 8 samples.\n",
      "1000 of 1001\n",
      "Maximum number of iterations reached after 6 samples.\n"
     ]
    }
   ],
   "source": [
    "for j, lam in enumerate(lamVec):\n",
    "    if not np.mod(j, 100):\n",
    "        print('{} of 1001'.format(j))\n",
    "    zThreshOneNorm[j] = approximateResidualQuantity(lam=lam, n=100, returnDist=False)"
   ]
  },
  {
   "cell_type": "code",
   "execution_count": 175,
   "metadata": {
    "collapsed": false
   },
   "outputs": [],
   "source": [
    "zThreshOneNorm2 = zThreshOneNorm[~np.isnan(zThreshOneNorm)]"
   ]
  },
  {
   "cell_type": "code",
   "execution_count": 187,
   "metadata": {
    "collapsed": true
   },
   "outputs": [],
   "source": [
    "from scipy.stats import norm"
   ]
  },
  {
   "cell_type": "code",
   "execution_count": 242,
   "metadata": {
    "collapsed": false
   },
   "outputs": [],
   "source": [
    "from statsmodels.graphics.gofplots import qqplot"
   ]
  },
  {
   "cell_type": "code",
   "execution_count": 321,
   "metadata": {
    "collapsed": false
   },
   "outputs": [
    {
     "data": {
      "image/png": "[encoded data removed]",
      "text/plain": [
       "<matplotlib.figure.Figure at 0x1215ecb70>"
      ]
     },
     "metadata": {},
     "output_type": "display_data"
    }
   ],
   "source": [
    "z = np.random.randn(100000)\n",
    "z = np.sort(z)\n",
    "t = np.linspace(0.001, 20, 1001);\n",
    "plt.hist(z[1:]*z[:-1], bins=40, normed=True);\n",
    "plt.plot(t, gamma.pdf(t, .5, scale=2), 'r:')\n",
    "plt.yscale('log')"
   ]
  },
  {
   "cell_type": "markdown",
   "metadata": {},
   "source": [
    "This distribution looks like a gamma with shape parameter .5 (and scale 2):"
   ]
  },
  {
   "cell_type": "code",
   "execution_count": 322,
   "metadata": {
    "collapsed": false
   },
   "outputs": [
    {
     "data": {
      "image/png": "[encoded data removed]",
      "text/plain": [
       "<matplotlib.figure.Figure at 0x120ed5b00>"
      ]
     },
     "metadata": {},
     "output_type": "display_data"
    }
   ],
   "source": [
    "from scipy.stats import gamma\n",
    "qq = qqplot(z[1:]*z[:-1], dist=gamma, distargs=[.5], line='45', fit=True)"
   ]
  },
  {
   "cell_type": "code",
   "execution_count": 277,
   "metadata": {
    "collapsed": false,
    "scrolled": true
   },
   "outputs": [
    {
     "data": {
      "image/png": "[encoded data removed]",
      "text/plain": [
       "<matplotlib.figure.Figure at 0x11d72aa90>"
      ]
     },
     "metadata": {},
     "output_type": "display_data"
    }
   ],
   "source": [
    "plt.plot(lamVec[~np.isnan(zThreshOneNorm)], zThreshOneNorm2);\n",
    "plt.plot(lamVec, np.exp(-1.5*lamVec)*80, 'r:')\n",
    "plt.plot(lamVec, 5*np.sqrt(lamVec)*100*(1- norm.cdf(lamVec))**2, 'g:');"
   ]
  },
  {
   "cell_type": "code",
   "execution_count": 158,
   "metadata": {
    "collapsed": true
   },
   "outputs": [],
   "source": [
    "def approximateResidualQuantity(lam=1, n=100, k=1000, \n",
    "                                returnDist=True, maxPerIter=100,\n",
    "                                fun=lambda w: np.linalg.norm(w, 1, axis=0)):\n",
    "    \"\"\"\n",
    "    approximateResidualQuantity(lam=1, n=100, k=1000, returnDist=True)\n",
    "    returns an approximation to the quantity (or distribution of the quantity)\n",
    "    lambda * #U - norm(z[U], 1)\n",
    "    where z[U] denotes the vector of #U-many largest-in-magnitude elements of z\n",
    "    \"\"\"\n",
    "    maxIter = k*maxPerIter\n",
    "    Z = np.zeros((n,k))\n",
    "    j = 0\n",
    "    ctr = 0\n",
    "    while j < k:\n",
    "        ctr += 1\n",
    "        z = np.random.randn(n)\n",
    "        if np.dot(pdmse.softThresh(z, lam),z) >= np.sqrt(n):\n",
    "            Z[:, j] = z\n",
    "            j += 1\n",
    "        if ctr >= maxIter:\n",
    "            print('Maximum number of iterations reached after {} samples.'.format(j))\n",
    "            return\n",
    "    zThresh = pdmse.softThresh(Z, lam)\n",
    "    quantityVector = fun(zThresh)\n",
    "    if returnDist:\n",
    "        return quantityVector.ravel()\n",
    "    else:\n",
    "        return quantityVector.mean()"
   ]
  },
  {
   "cell_type": "code",
   "execution_count": 75,
   "metadata": {
    "collapsed": false
   },
   "outputs": [],
   "source": [
    "logNmax = 6"
   ]
  },
  {
   "cell_type": "code",
   "execution_count": 143,
   "metadata": {
    "collapsed": false
   },
   "outputs": [],
   "source": [
    "residualQuantityDist = np.zeros((1000, logNmax))\n",
    "for j in range(logNmax):\n",
    "    n = 10**j\n",
    "    residualQuantityDist[:, j] = approximateResidualQuantity(lam=2, n=n)"
   ]
  },
  {
   "cell_type": "code",
   "execution_count": 144,
   "metadata": {
    "collapsed": true
   },
   "outputs": [],
   "source": [
    "Nvec = 10**np.array(range(logNmax))"
   ]
  },
  {
   "cell_type": "code",
   "execution_count": 145,
   "metadata": {
    "collapsed": false
   },
   "outputs": [
    {
     "data": {
      "image/png": "[encoded data removed]",
      "text/plain": [
       "<matplotlib.figure.Figure at 0x11dfb9320>"
      ]
     },
     "metadata": {},
     "output_type": "display_data"
    }
   ],
   "source": [
    "plt.plot(Nvec, np.mean(residualQuantityDist, axis=0), '.-');\n",
    "plt.plot(Nvec, Nvec**(.45), 'r:');\n",
    "plt.xscale('log')\n",
    "plt.yscale('log')"
   ]
  },
  {
   "cell_type": "code",
   "execution_count": 146,
   "metadata": {
    "collapsed": false
   },
   "outputs": [
    {
     "data": {
      "image/png": "[encoded data removed]",
      "text/plain": [
       "<matplotlib.figure.Figure at 0x121a80748>"
      ]
     },
     "metadata": {},
     "output_type": "display_data"
    }
   ],
   "source": [
    "plt.hist(np.log1p(residualQuantityDist), stacked=True, bins=20, normed=True);"
   ]
  },
  {
   "cell_type": "markdown",
   "metadata": {},
   "source": [
    "## Integral of normal ppf"
   ]
  },
  {
   "cell_type": "code",
   "execution_count": 299,
   "metadata": {
    "collapsed": false
   },
   "outputs": [
    {
     "data": {
      "image/png": "[encoded data removed]",
      "text/plain": [
       "<matplotlib.figure.Figure at 0x11dbad550>"
      ]
     },
     "metadata": {},
     "output_type": "display_data"
    }
   ],
   "source": [
    "t = np.linspace(0, 1, 10001);\n",
    "PhiInv = norm.ppf(t)\n",
    "plt.plot(t, PhiInv);"
   ]
  },
  {
   "cell_type": "code",
   "execution_count": 300,
   "metadata": {
    "collapsed": true
   },
   "outputs": [],
   "source": [
    "from scipy.integrate import quad"
   ]
  },
  {
   "cell_type": "code",
   "execution_count": 311,
   "metadata": {
    "collapsed": false
   },
   "outputs": [
    {
     "data": {
      "text/plain": [
       "(0.3989422803970298, 2.053276326741127e-09)"
      ]
     },
     "execution_count": 311,
     "metadata": {},
     "output_type": "execute_result"
    }
   ],
   "source": [
    "quad(norm.ppf, .5, 1)"
   ]
  },
  {
   "cell_type": "markdown",
   "metadata": {},
   "source": [
    "## What does the pair-wise difference of the probabilities look like? \n",
    "\n",
    "Perhaps there's some low-dimensional structure or something..."
   ]
  },
  {
   "cell_type": "code",
   "execution_count": null,
   "metadata": {
    "collapsed": false
   },
   "outputs": [],
   "source": [
    "P = np.array([[np.abs(p_j[k] - p_j[ell]) for ell in range(p_j.size)] for k in range(p_j.size)])"
   ]
  },
  {
   "cell_type": "code",
   "execution_count": null,
   "metadata": {
    "collapsed": false
   },
   "outputs": [],
   "source": [
    "import scipy\n",
    "import pylab\n",
    "import scipy.cluster.hierarchy as sch\n",
    "\n",
    "# Compute and plot first dendrogram.\n",
    "fig = pylab.figure(figsize=(8,8))\n",
    "ax1 = fig.add_axes([0.09,0.1,0.2,0.6])\n",
    "Y = sch.linkage(P, method='centroid')\n",
    "Z1 = sch.dendrogram(Y, orientation='right')\n",
    "ax1.set_xticks([])\n",
    "ax1.set_yticks([])\n",
    "\n",
    "# Compute and plot second dendrogram.\n",
    "ax2 = fig.add_axes([0.3,0.71,0.6,0.2])\n",
    "Y = sch.linkage(P, method='single')\n",
    "Z2 = sch.dendrogram(Y)\n",
    "ax2.set_xticks([])\n",
    "ax2.set_yticks([])\n",
    "\n",
    "# Plot distance matrix.\n",
    "axmatrix = fig.add_axes([0.3,0.1,0.6,0.6])\n",
    "idx1 = Z1['leaves']\n",
    "idx2 = Z2['leaves']\n",
    "P = P[idx1,:]\n",
    "P = P[:,idx2]\n",
    "im = axmatrix.matshow(P, aspect='auto', origin='lower', cmap=pylab.cm.YlGnBu)\n",
    "axmatrix.set_xticks([])\n",
    "axmatrix.set_yticks([])\n",
    "\n",
    "# Plot colorbar.\n",
    "axcolor = fig.add_axes([0.91,0.1,0.02,0.6])\n",
    "pylab.colorbar(im, cax=axcolor);"
   ]
  },
  {
   "cell_type": "markdown",
   "metadata": {},
   "source": [
    "## Trying to estimate using inverse CDF"
   ]
  },
  {
   "cell_type": "code",
   "execution_count": null,
   "metadata": {
    "collapsed": true
   },
   "outputs": [],
   "source": [
    "def T_lambda_z(N=100, lam=1, k=100):\n",
    "    return pdmse.softThresh(np.random.randn(N,k), lam=lam)"
   ]
  },
  {
   "cell_type": "code",
   "execution_count": null,
   "metadata": {
    "collapsed": true
   },
   "outputs": [],
   "source": [
    "cand = T_lambda_z(1, 1, 100000)"
   ]
  },
  {
   "cell_type": "code",
   "execution_count": null,
   "metadata": {
    "collapsed": true
   },
   "outputs": [],
   "source": [
    "from scipy.special import erfinv\n",
    "from scipy.stats import norm"
   ]
  },
  {
   "cell_type": "code",
   "execution_count": null,
   "metadata": {
    "collapsed": true
   },
   "outputs": [],
   "source": [
    "def blom(r,n,mu=0,sigma=1):\n",
    "    \"\"\"\n",
    "    blom(r, n, mu=0, sigma=1)\n",
    "    Formula approximating the expected value of the rth order statistic in a sample \n",
    "    size of n for a normal distribution with mean mu and standard deviation sigma.\n",
    "    \"\"\"\n",
    "    alpha = .375\n",
    "    return mu + sigma * norm.ppf( (r-alpha) / (n - 2*alpha + 1) )"
   ]
  },
  {
   "cell_type": "markdown",
   "metadata": {},
   "source": [
    "We see very good agreement between the inverse CDF and the Blom approximation. "
   ]
  },
  {
   "cell_type": "code",
   "execution_count": null,
   "metadata": {
    "collapsed": false
   },
   "outputs": [],
   "source": [
    "plt.plot(blom(np.arange(1, 1001), 1001), lw=5);\n",
    "plt.plot(norm.ppf(np.linspace(0, 1, 1001)), 'r');"
   ]
  },
  {
   "cell_type": "markdown",
   "metadata": {},
   "source": [
    "# minimum of $z$"
   ]
  },
  {
   "cell_type": "code",
   "execution_count": null,
   "metadata": {
    "collapsed": false
   },
   "outputs": [],
   "source": [
    "lognmax = 6\n",
    "zmin_mean = np.zeros(lognmax+1)\n",
    "for logn in range(lognmax+1):\n",
    "    print(logn)\n",
    "    n = int(10**logn)\n",
    "    z = np.zeros((n, 100))\n",
    "    j = 0\n",
    "    while j < 100:\n",
    "        zz = np.random.randn(n)\n",
    "        if np.dot(zz,zz) > n + n**.5:\n",
    "            z[:, j] = zz\n",
    "            j += 1\n",
    "    zmin_mean[logn] = np.abs(z).min(axis=0).mean()"
   ]
  },
  {
   "cell_type": "code",
   "execution_count": null,
   "metadata": {
    "collapsed": false
   },
   "outputs": [],
   "source": [
    "plt.hlines(zmin_mean, 1, 10**lognmax, alpha=.5, linestyle='--')\n",
    "plt.plot(10**np.arange(lognmax+1), zmin_mean, marker='.')\n",
    "plt.title('$f(n)$ vs. $n$ for $f(n) = \\\\mathbb{E} \\\\,\\\\left( \\\\min_{j\\\\in [n]} |z_j| \\\\right)$', fontdict={'verticalalignment':'bottom', 'fontsize':14})\n",
    "plt.xscale('log')\n",
    "plt.yscale('log')\n",
    "plt.xlabel('$n$', fontdict={'fontsize':14});"
   ]
  },
  {
   "cell_type": "code",
   "execution_count": null,
   "metadata": {
    "collapsed": false
   },
   "outputs": [],
   "source": [
    "m = 10000\n",
    "z = np.sort(np.random.randn(m))\n",
    "\n",
    "plt.figure(figsize=(10,6))\n",
    "plt.plot(z, marker='.', linestyle='-', color=(0,0,0,.5), lw=1, markeredgewidth=0, markersize=2, markerfacecolor=(0, 0, 0.5, .5));\n",
    "plt.hlines([0, 1, 1+m**(-.5)], 0, m, color=(0,0,0,.5), linestyle='--');"
   ]
  }
 ],
 "metadata": {
  "kernelspec": {
   "display_name": "Python 3",
   "language": "python",
   "name": "python3"
  },
  "language_info": {
   "codemirror_mode": {
    "name": "ipython",
    "version": 3
   },
   "file_extension": ".py",
   "mimetype": "text/x-python",
   "name": "python",
   "nbconvert_exporter": "python",
   "pygments_lexer": "ipython3",
   "version": "3.5.2"
  },
  "toc": {
   "nav_menu": {
    "height": "12px",
    "width": "252px"
   },
   "navigate_menu": true,
   "number_sections": true,
   "sideBar": true,
   "threshold": 4,
   "toc_cell": true,
   "toc_section_display": "block",
   "toc_window_display": false
  }
 },
 "nbformat": 4,
 "nbformat_minor": 1
}
