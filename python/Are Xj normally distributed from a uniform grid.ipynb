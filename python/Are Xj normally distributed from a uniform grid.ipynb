{
 "cells": [
  {
   "cell_type": "markdown",
   "metadata": {
    "toc": "true"
   },
   "source": [
    "# Table of Contents\n",
    " <p><div class=\"lev1 toc-item\"><a href=\"#Import\" data-toc-modified-id=\"Import-1\"><span class=\"toc-item-num\">1&nbsp;&nbsp;</span>Import</a></div><div class=\"lev1 toc-item\"><a href=\"#Create-data\" data-toc-modified-id=\"Create-data-2\"><span class=\"toc-item-num\">2&nbsp;&nbsp;</span>Create data</a></div><div class=\"lev1 toc-item\"><a href=\"#Create-grid\" data-toc-modified-id=\"Create-grid-3\"><span class=\"toc-item-num\">3&nbsp;&nbsp;</span>Create grid</a></div><div class=\"lev1 toc-item\"><a href=\"#Parse-data\" data-toc-modified-id=\"Parse-data-4\"><span class=\"toc-item-num\">4&nbsp;&nbsp;</span>Parse data</a></div>"
   ]
  },
  {
   "cell_type": "markdown",
   "metadata": {},
   "source": [
    "# Import"
   ]
  },
  {
   "cell_type": "code",
   "execution_count": 1,
   "metadata": {
    "collapsed": false
   },
   "outputs": [
    {
     "name": "stdout",
     "output_type": "stream",
     "text": [
      "Populating the interactive namespace from numpy and matplotlib\n"
     ]
    }
   ],
   "source": [
    "%pylab inline"
   ]
  },
  {
   "cell_type": "code",
   "execution_count": 2,
   "metadata": {
    "collapsed": true
   },
   "outputs": [],
   "source": [
    "import json\n",
    "import jsonWrite"
   ]
  },
  {
   "cell_type": "code",
   "execution_count": 3,
   "metadata": {
    "collapsed": false
   },
   "outputs": [
    {
     "name": "stdout",
     "output_type": "stream",
     "text": [
      "trying alternative import for spgl1...success!\n"
     ]
    }
   ],
   "source": [
    "import pdmse\n",
    "from scaling_of_residual import bppdStats"
   ]
  },
  {
   "cell_type": "markdown",
   "metadata": {},
   "source": [
    "# Create data"
   ]
  },
  {
   "cell_type": "code",
   "execution_count": 4,
   "metadata": {
    "collapsed": false
   },
   "outputs": [
    {
     "name": "stdout",
     "output_type": "stream",
     "text": [
      "1 of 5\n",
      "2 of 5\n",
      "3 of 5\n",
      "4 of 5\n",
      "5 of 5\n"
     ]
    }
   ],
   "source": [
    "Z = {}\n",
    "Q = {}\n",
    "logNmax = 5\n",
    "for j in range(1,logNmax+1):\n",
    "    print('{} of {}'.format(j, logNmax))\n",
    "    Z[10**j], Q[10**j] = bppdStats(n=10**j, k=1000)"
   ]
  },
  {
   "cell_type": "markdown",
   "metadata": {},
   "source": [
    "# Create grid"
   ]
  },
  {
   "cell_type": "markdown",
   "metadata": {},
   "source": [
    "We'll have $n$ points. expected max is controlled by\n",
    "$$\n",
    "\\sigma \\sqrt{2 \\log n};\n",
    "$$ \n",
    "expected min is controlled by\n",
    "$$\n",
    "u_{\\min} = \\Phi^{-1} \\big( \\frac{1}{2(n+1)} \\big) \n",
    "$$"
   ]
  },
  {
   "cell_type": "code",
   "execution_count": 6,
   "metadata": {
    "collapsed": true
   },
   "outputs": [],
   "source": [
    "from scipy.stats import norm"
   ]
  },
  {
   "cell_type": "code",
   "execution_count": 28,
   "metadata": {
    "collapsed": false
   },
   "outputs": [
    {
     "name": "stdout",
     "output_type": "stream",
     "text": [
      "empirical abs min: 0.00012018300432939318\n"
     ]
    }
   ],
   "source": [
    "n = 10000 # number of samples\n",
    "X = np.random.randn(1000, n)\n",
    "print('empirical abs min: {}'.format(np.abs(X).min(axis=1).mean()))"
   ]
  },
  {
   "cell_type": "markdown",
   "metadata": {},
   "source": [
    "Expected abs min is given by..."
   ]
  },
  {
   "cell_type": "code",
   "execution_count": 46,
   "metadata": {
    "collapsed": true
   },
   "outputs": [],
   "source": [
    "def cdfInfHN(t,n=10000):\n",
    "    return (2 - 2*norm.cdf(t))**n"
   ]
  },
  {
   "cell_type": "code",
   "execution_count": 55,
   "metadata": {
    "collapsed": true
   },
   "outputs": [],
   "source": [
    "from scipy.integrate import quad"
   ]
  },
  {
   "cell_type": "code",
   "execution_count": 71,
   "metadata": {
    "collapsed": false
   },
   "outputs": [
    {
     "name": "stdout",
     "output_type": "stream",
     "text": [
      "expected abs min: (2.1675773314744478e-10, 4.285440578868805e-10)\n"
     ]
    }
   ],
   "source": [
    "print('expected abs min: {}'.format(quad(lambda t : cdfInfHN(t, 10000), 0, Inf)))"
   ]
  },
  {
   "cell_type": "code",
   "execution_count": 60,
   "metadata": {
    "collapsed": false
   },
   "outputs": [
    {
     "name": "stdout",
     "output_type": "stream",
     "text": [
      "expected abs min: 1.2533016043254282e-05\n"
     ]
    }
   ],
   "source": [
    "print('expected abs min: {}'.format(norm.ppf(.5/(n+1)+.5)))"
   ]
  },
  {
   "cell_type": "markdown",
   "metadata": {},
   "source": [
    "# Parse data"
   ]
  },
  {
   "cell_type": "code",
   "execution_count": null,
   "metadata": {
    "collapsed": true
   },
   "outputs": [],
   "source": [
    "n = 100\n",
    "\n",
    "zz = Z[n]\n",
    "qq = Q[n]\n",
    "print('zz.shape = {}\\nqq.shape = {}'.format(zz.shape, qq.shape));"
   ]
  },
  {
   "cell_type": "code",
   "execution_count": null,
   "metadata": {
    "collapsed": true
   },
   "outputs": [],
   "source": [
    "J = np.argsort(zz[:-1,0]) # reordering for increasing order\n",
    "p_j = norm.cdf(zz[:-1,0]) # corresponding probabilities for CDF at jth ordered sample"
   ]
  },
  {
   "cell_type": "code",
   "execution_count": null,
   "metadata": {
    "collapsed": true
   },
   "outputs": [],
   "source": []
  },
  {
   "cell_type": "code",
   "execution_count": null,
   "metadata": {
    "collapsed": true
   },
   "outputs": [],
   "source": [
    "plt.figure(figsize=(10,4), )\n",
    "plt.stem(p_j[J], -qq[:-1,0][J],linefmt='r-', markerfmt='ro');\n",
    "#plt.stem(p_j[J], zz[:-1,0][J]);\n",
    "plt.plot(np.linspace(0, 1, 1001), norm.ppf(np.linspace(0,1,1001)), 'c--', lw=3);"
   ]
  }
 ],
 "metadata": {
  "kernelspec": {
   "display_name": "Python 3",
   "language": "python",
   "name": "python3"
  },
  "language_info": {
   "codemirror_mode": {
    "name": "ipython",
    "version": 3
   },
   "file_extension": ".py",
   "mimetype": "text/x-python",
   "name": "python",
   "nbconvert_exporter": "python",
   "pygments_lexer": "ipython3",
   "version": "3.5.2"
  },
  "toc": {
   "nav_menu": {
    "height": "84px",
    "width": "252px"
   },
   "navigate_menu": true,
   "number_sections": true,
   "sideBar": true,
   "threshold": 4,
   "toc_cell": true,
   "toc_section_display": "block",
   "toc_window_display": false
  }
 },
 "nbformat": 4,
 "nbformat_minor": 1
}
