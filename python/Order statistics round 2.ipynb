{
 "cells": [
  {
   "cell_type": "markdown",
   "metadata": {
    "toc": "true"
   },
   "source": [
    "# Table of Contents\n",
    " <p><div class=\"lev1 toc-item\"><a href=\"#Import\" data-toc-modified-id=\"Import-1\"><span class=\"toc-item-num\">1&nbsp;&nbsp;</span>Import</a></div><div class=\"lev1 toc-item\"><a href=\"#Percent-Points\" data-toc-modified-id=\"Percent-Points-2\"><span class=\"toc-item-num\">2&nbsp;&nbsp;</span>Percent Points</a></div><div class=\"lev1 toc-item\"><a href=\"#Now-for-a-lower-bound-for-$\\|z_U\\|_2^2$\" data-toc-modified-id=\"Now-for-a-lower-bound-for-$\\|z_U\\|_2^2$-3\"><span class=\"toc-item-num\">3&nbsp;&nbsp;</span>Now for a lower bound for <span class=\"MathJax_Preview\" style=\"color: inherit;\"></span><span class=\"MathJax\" id=\"MathJax-Element-34-Frame\" tabindex=\"0\" data-mathml=\"<math xmlns=&quot;http://www.w3.org/1998/Math/MathML&quot;><mo fence=&quot;false&quot; stretchy=&quot;false&quot;>&amp;#x2225;</mo><msub><mi>z</mi><mi>U</mi></msub><msubsup><mo fence=&quot;false&quot; stretchy=&quot;false&quot;>&amp;#x2225;</mo><mn>2</mn><mn>2</mn></msubsup></math>\" role=\"presentation\" style=\"position: relative;\"><nobr aria-hidden=\"true\"><span class=\"math\" id=\"MathJax-Span-452\" role=\"math\" style=\"width: 3.06em; display: inline-block;\"><span style=\"display: inline-block; position: relative; width: 2.492em; height: 0px; font-size: 122%;\"><span style=\"position: absolute; clip: rect(1.578em 1002.49em 2.902em -999.998em); top: -2.489em; left: 0.002em;\"><span class=\"mrow\" id=\"MathJax-Span-453\"><span class=\"mo\" id=\"MathJax-Span-454\" style=\"font-family: STIXMathJax_Main;\">∥</span><span class=\"msubsup\" id=\"MathJax-Span-455\"><span style=\"display: inline-block; position: relative; width: 1.01em; height: 0px;\"><span style=\"position: absolute; clip: rect(3.469em 1000.38em 4.195em -999.998em); top: -4.002em; left: 0.002em;\"><span class=\"mi\" id=\"MathJax-Span-456\" style=\"font-family: STIXMathJax_Main-italic;\">z</span><span style=\"display: inline-block; width: 0px; height: 4.005em;\"></span></span><span style=\"position: absolute; top: -3.845em; left: 0.38em;\"><span class=\"mi\" id=\"MathJax-Span-457\" style=\"font-size: 70.7%; font-family: STIXMathJax_Main-italic;\">U<span style=\"display: inline-block; overflow: hidden; height: 1px; width: 0.033em;\"></span></span><span style=\"display: inline-block; width: 0px; height: 4.005em;\"></span></span></span></span><span class=\"msubsup\" id=\"MathJax-Span-458\"><span style=\"display: inline-block; position: relative; width: 0.947em; height: 0px;\"><span style=\"position: absolute; clip: rect(3.217em 1000.38em 4.289em -999.998em); top: -4.002em; left: 0.002em;\"><span class=\"mo\" id=\"MathJax-Span-459\" style=\"font-family: STIXMathJax_Main;\">∥</span><span style=\"display: inline-block; width: 0px; height: 4.005em;\"></span></span><span style=\"position: absolute; clip: rect(3.438em 1000.44em 4.1em -999.998em); top: -4.349em; left: 0.538em;\"><span class=\"mn\" id=\"MathJax-Span-460\" style=\"font-size: 70.7%; font-family: STIXMathJax_Main;\">2</span><span style=\"display: inline-block; width: 0px; height: 4.005em;\"></span></span><span style=\"position: absolute; clip: rect(3.438em 1000.44em 4.1em -999.998em); top: -3.687em; left: 0.538em;\"><span class=\"mn\" id=\"MathJax-Span-461\" style=\"font-size: 70.7%; font-family: STIXMathJax_Main;\">2</span><span style=\"display: inline-block; width: 0px; height: 4.005em;\"></span></span></span></span></span><span style=\"display: inline-block; width: 0px; height: 2.492em;\"></span></span></span><span style=\"display: inline-block; overflow: hidden; vertical-align: -0.421em; border-left: 0px solid; width: 0px; height: 1.463em;\"></span></span></nobr><span class=\"MJX_Assistive_MathML\" role=\"presentation\"><math xmlns=\"http://www.w3.org/1998/Math/MathML\"><mo fence=\"false\" stretchy=\"false\">∥</mo><msub><mi>z</mi><mi>U</mi></msub><msubsup><mo fence=\"false\" stretchy=\"false\">∥</mo><mn>2</mn><mn>2</mn></msubsup></math></span></span><script type=\"math/tex\" id=\"MathJax-Element-34\">\\|z_U\\|_2^2</script></a></div><div class=\"lev1 toc-item\"><a href=\"#Comparing-one-and-two-norms\" data-toc-modified-id=\"Comparing-one-and-two-norms-4\"><span class=\"toc-item-num\">4&nbsp;&nbsp;</span>Comparing one and two norms</a></div><div class=\"lev2 toc-item\"><a href=\"#Stats-about-$S_\\lambda(z)$\" data-toc-modified-id=\"Stats-about-$S_\\lambda(z)$-41\"><span class=\"toc-item-num\">4.1&nbsp;&nbsp;</span>Stats about <span class=\"MathJax_Preview\" style=\"color: inherit;\"></span><span class=\"MathJax\" id=\"MathJax-Element-33-Frame\" tabindex=\"0\" data-mathml=\"<math xmlns=&quot;http://www.w3.org/1998/Math/MathML&quot;><msub><mi>S</mi><mi>&amp;#x03BB;</mi></msub><mo stretchy=&quot;false&quot;>(</mo><mi>z</mi><mo stretchy=&quot;false&quot;>)</mo></math>\" role=\"presentation\" style=\"position: relative;\"><nobr aria-hidden=\"true\"><span class=\"math\" id=\"MathJax-Span-444\" role=\"math\" style=\"width: 2.386em; display: inline-block;\"><span style=\"display: inline-block; position: relative; width: 1.939em; height: 0px; font-size: 122%;\"><span style=\"position: absolute; clip: rect(1.716em 1001.9em 2.796em -999.998em); top: -2.494em; left: 0.002em;\"><span class=\"mrow\" id=\"MathJax-Span-445\"><span class=\"msubsup\" id=\"MathJax-Span-446\"><span style=\"display: inline-block; position: relative; width: 0.896em; height: 0px;\"><span style=\"position: absolute; clip: rect(3.206em 1000.52em 4.1em -999.998em); top: -3.985em; left: 0.002em;\"><span class=\"mi\" id=\"MathJax-Span-447\" style=\"font-family: STIXMathJax_Main-italic;\">S<span style=\"display: inline-block; overflow: hidden; height: 1px; width: 0.002em;\"></span></span><span style=\"display: inline-block; width: 0px; height: 3.988em;\"></span></span><span style=\"position: absolute; top: -3.836em; left: 0.486em;\"><span class=\"mi\" id=\"MathJax-Span-448\" style=\"font-size: 70.7%; font-family: STIXMathJax_Main-italic;\">λ</span><span style=\"display: inline-block; width: 0px; height: 3.988em;\"></span></span></span></span><span class=\"mo\" id=\"MathJax-Span-449\" style=\"font-family: STIXMathJax_Main;\">(</span><span class=\"mi\" id=\"MathJax-Span-450\" style=\"font-family: STIXMathJax_Main-italic;\">z</span><span class=\"mo\" id=\"MathJax-Span-451\" style=\"font-family: STIXMathJax_Main;\">)</span></span><span style=\"display: inline-block; width: 0px; height: 2.498em;\"></span></span></span><span style=\"display: inline-block; overflow: hidden; vertical-align: -0.27em; border-left: 0px solid; width: 0px; height: 1.139em;\"></span></span></nobr><span class=\"MJX_Assistive_MathML\" role=\"presentation\"><math xmlns=\"http://www.w3.org/1998/Math/MathML\"><msub><mi>S</mi><mi>λ</mi></msub><mo stretchy=\"false\">(</mo><mi>z</mi><mo stretchy=\"false\">)</mo></math></span></span><script type=\"math/tex\" id=\"MathJax-Element-33\">S_\\lambda(z)</script></a></div><div class=\"lev2 toc-item\"><a href=\"#Stats-about-$z_U$\" data-toc-modified-id=\"Stats-about-$z_U$-42\"><span class=\"toc-item-num\">4.2&nbsp;&nbsp;</span>Stats about <span class=\"MathJax_Preview\" style=\"color: inherit;\"></span><span class=\"MathJax\" id=\"MathJax-Element-24-Frame\" tabindex=\"0\" data-mathml=\"<math xmlns=&quot;http://www.w3.org/1998/Math/MathML&quot;><msub><mi>z</mi><mi>U</mi></msub></math>\" role=\"presentation\" style=\"position: relative;\"><nobr aria-hidden=\"true\"><span class=\"math\" id=\"MathJax-Span-261\" role=\"math\" style=\"width: 1.231em; display: inline-block;\"><span style=\"display: inline-block; position: relative; width: 1.008em; height: 0px; font-size: 122%;\"><span style=\"position: absolute; clip: rect(1.641em 1001.01em 2.424em -999.998em); top: -2.159em; left: 0.002em;\"><span class=\"mrow\" id=\"MathJax-Span-262\"><span class=\"msubsup\" id=\"MathJax-Span-263\"><span style=\"display: inline-block; position: relative; width: 1.008em; height: 0px;\"><span style=\"position: absolute; clip: rect(3.467em 1000.37em 4.175em -999.998em); top: -3.985em; left: 0.002em;\"><span class=\"mi\" id=\"MathJax-Span-264\" style=\"font-family: STIXMathJax_Main-italic;\">z</span><span style=\"display: inline-block; width: 0px; height: 3.988em;\"></span></span><span style=\"position: absolute; top: -3.836em; left: 0.374em;\"><span class=\"mi\" id=\"MathJax-Span-265\" style=\"font-size: 70.7%; font-family: STIXMathJax_Main-italic;\">U<span style=\"display: inline-block; overflow: hidden; height: 1px; width: 0.039em;\"></span></span><span style=\"display: inline-block; width: 0px; height: 3.988em;\"></span></span></span></span></span><span style=\"display: inline-block; width: 0px; height: 2.163em;\"></span></span></span><span style=\"display: inline-block; overflow: hidden; vertical-align: -0.225em; border-left: 0px solid; width: 0px; height: 0.82em;\"></span></span></nobr><span class=\"MJX_Assistive_MathML\" role=\"presentation\"><math xmlns=\"http://www.w3.org/1998/Math/MathML\"><msub><mi>z</mi><mi>U</mi></msub></math></span></span><script type=\"math/tex\" id=\"MathJax-Element-24\">z_U</script></a></div><div class=\"lev2 toc-item\"><a href=\"#Of-note\" data-toc-modified-id=\"Of-note-43\"><span class=\"toc-item-num\">4.3&nbsp;&nbsp;</span>Of note</a></div><div class=\"lev1 toc-item\"><a href=\"#Lower-bounding-Lipschitz-functions?\" data-toc-modified-id=\"Lower-bounding-Lipschitz-functions?-5\"><span class=\"toc-item-num\">5&nbsp;&nbsp;</span>Lower-bounding Lipschitz functions?</a></div><div class=\"lev2 toc-item\"><a href=\"#For-fixed-$n$.\" data-toc-modified-id=\"For-fixed-$n$.-51\"><span class=\"toc-item-num\">5.1&nbsp;&nbsp;</span>For fixed <span class=\"MathJax_Preview\" style=\"color: inherit;\"></span><span class=\"MathJax\" id=\"MathJax-Element-45-Frame\" tabindex=\"0\" data-mathml=\"<math xmlns=&quot;http://www.w3.org/1998/Math/MathML&quot;><mi>n</mi></math>\" role=\"presentation\" style=\"position: relative;\"><nobr aria-hidden=\"true\"><span class=\"math\" id=\"MathJax-Span-586\" role=\"math\" style=\"width: 0.598em; display: inline-block;\"><span style=\"display: inline-block; position: relative; width: 0.486em; height: 0px; font-size: 122%;\"><span style=\"position: absolute; clip: rect(1.753em 1000.45em 2.424em -999.998em); top: -2.308em; left: 0.002em;\"><span class=\"mrow\" id=\"MathJax-Span-587\"><span class=\"mi\" id=\"MathJax-Span-588\" style=\"font-family: STIXMathJax_Main-italic;\">n</span></span><span style=\"display: inline-block; width: 0px; height: 2.312em;\"></span></span></span><span style=\"display: inline-block; overflow: hidden; vertical-align: -0.043em; border-left: 0px solid; width: 0px; height: 0.639em;\"></span></span></nobr><span class=\"MJX_Assistive_MathML\" role=\"presentation\"><math xmlns=\"http://www.w3.org/1998/Math/MathML\"><mi>n</mi></math></span></span><script type=\"math/tex\" id=\"MathJax-Element-45\">n</script>.</a></div><div class=\"lev1 toc-item\"><a href=\"#When-$\\lambda-=-1$\" data-toc-modified-id=\"When-$\\lambda-=-1$-6\"><span class=\"toc-item-num\">6&nbsp;&nbsp;</span>When <span class=\"MathJax_Preview\" style=\"color: inherit;\"></span><span class=\"MathJax\" id=\"MathJax-Element-35-Frame\" tabindex=\"0\" data-mathml=\"<math xmlns=&quot;http://www.w3.org/1998/Math/MathML&quot;><mi>&amp;#x03BB;</mi><mo>=</mo><mn>1</mn></math>\" role=\"presentation\" style=\"position: relative;\"><nobr aria-hidden=\"true\"><span class=\"math\" id=\"MathJax-Span-462\" role=\"math\" style=\"width: 2.776em; display: inline-block;\"><span style=\"display: inline-block; position: relative; width: 2.271em; height: 0px; font-size: 122%;\"><span style=\"position: absolute; clip: rect(1.704em 1002.18em 2.618em -999.998em); top: -2.489em; left: 0.002em;\"><span class=\"mrow\" id=\"MathJax-Span-463\"><span class=\"mi\" id=\"MathJax-Span-464\" style=\"font-family: STIXMathJax_Main-italic;\">λ</span><span class=\"mo\" id=\"MathJax-Span-465\" style=\"font-family: STIXMathJax_Main; padding-left: 0.317em;\">=</span><span class=\"mn\" id=\"MathJax-Span-466\" style=\"font-family: STIXMathJax_Main; padding-left: 0.317em;\">1</span></span><span style=\"display: inline-block; width: 0px; height: 2.492em;\"></span></span></span><span style=\"display: inline-block; overflow: hidden; vertical-align: -0.075em; border-left: 0px solid; width: 0px; height: 0.925em;\"></span></span></nobr><span class=\"MJX_Assistive_MathML\" role=\"presentation\"><math xmlns=\"http://www.w3.org/1998/Math/MathML\"><mi>λ</mi><mo>=</mo><mn>1</mn></math></span></span><script type=\"math/tex\" id=\"MathJax-Element-35\">\\lambda = 1</script></a></div><div class=\"lev1 toc-item\"><a href=\"#When-$\\lambda-=-\\rho-\\sqrt{s-\\log-(n/s)}$\" data-toc-modified-id=\"When-$\\lambda-=-\\rho-\\sqrt{s-\\log-(n/s)}$-7\"><span class=\"toc-item-num\">7&nbsp;&nbsp;</span>When <span class=\"MathJax_Preview\" style=\"color: inherit;\"></span><span class=\"MathJax MathJax_Processing\" id=\"MathJax-Element-20-Frame\" tabindex=\"0\"></span><script type=\"math/tex\" id=\"MathJax-Element-20\">\\lambda = \\rho \\sqrt{s \\log (n/s)}</script></a></div><div class=\"lev1 toc-item\"><a href=\"#Comparing-support-size-and-inner-product\" data-toc-modified-id=\"Comparing-support-size-and-inner-product-8\"><span class=\"toc-item-num\">8&nbsp;&nbsp;</span>Comparing support size and inner-product</a></div><div class=\"lev2 toc-item\"><a href=\"#Distribution-of-difference-between-inner-product-and-support-size\" data-toc-modified-id=\"Distribution-of-difference-between-inner-product-and-support-size-81\"><span class=\"toc-item-num\">8.1&nbsp;&nbsp;</span>Distribution of difference between inner product and support size</a></div><div class=\"lev2 toc-item\"><a href=\"#Distribution-of-ratio-of-inner-product-and-support-size\" data-toc-modified-id=\"Distribution-of-ratio-of-inner-product-and-support-size-82\"><span class=\"toc-item-num\">8.2&nbsp;&nbsp;</span>Distribution of ratio of inner product and support size</a></div><div class=\"lev2 toc-item\"><a href=\"#ssipRatio-means-for-different-values-of-$\\lambda$\" data-toc-modified-id=\"ssipRatio-means-for-different-values-of-$\\lambda$-83\"><span class=\"toc-item-num\">8.3&nbsp;&nbsp;</span>ssipRatio means for different values of <span class=\"MathJax_Preview\" style=\"color: inherit;\"></span><span class=\"MathJax\" id=\"MathJax-Element-44-Frame\" tabindex=\"0\" data-mathml=\"<math xmlns=&quot;http://www.w3.org/1998/Math/MathML&quot;><mi>&amp;#x03BB;</mi></math>\" role=\"presentation\" style=\"position: relative;\"><nobr aria-hidden=\"true\"><span class=\"math\" id=\"MathJax-Span-583\" role=\"math\" style=\"width: 0.561em; display: inline-block;\"><span style=\"display: inline-block; position: relative; width: 0.449em; height: 0px; font-size: 122%;\"><span style=\"position: absolute; clip: rect(1.529em 1000.41em 2.424em -999.998em); top: -2.308em; left: 0.002em;\"><span class=\"mrow\" id=\"MathJax-Span-584\"><span class=\"mi\" id=\"MathJax-Span-585\" style=\"font-family: STIXMathJax_Main-italic;\">λ</span></span><span style=\"display: inline-block; width: 0px; height: 2.312em;\"></span></span></span><span style=\"display: inline-block; overflow: hidden; vertical-align: -0.043em; border-left: 0px solid; width: 0px; height: 0.957em;\"></span></span></nobr><span class=\"MJX_Assistive_MathML\" role=\"presentation\"><math xmlns=\"http://www.w3.org/1998/Math/MathML\"><mi>λ</mi></math></span></span><script type=\"math/tex\" id=\"MathJax-Element-44\">\\lambda</script></a></div>"
   ]
  },
  {
   "cell_type": "markdown",
   "metadata": {},
   "source": [
    "# Import"
   ]
  },
  {
   "cell_type": "code",
   "execution_count": 1,
   "metadata": {
    "collapsed": false
   },
   "outputs": [
    {
     "name": "stdout",
     "output_type": "stream",
     "text": [
      "Populating the interactive namespace from numpy and matplotlib\n"
     ]
    }
   ],
   "source": [
    "%pylab inline"
   ]
  },
  {
   "cell_type": "code",
   "execution_count": 2,
   "metadata": {
    "collapsed": true
   },
   "outputs": [],
   "source": [
    "from scipy.stats import norm"
   ]
  },
  {
   "cell_type": "code",
   "execution_count": 3,
   "metadata": {
    "collapsed": false
   },
   "outputs": [
    {
     "name": "stdout",
     "output_type": "stream",
     "text": [
      "trying alternative import for spgl1...success!\n"
     ]
    }
   ],
   "source": [
    "import pdmse"
   ]
  },
  {
   "cell_type": "markdown",
   "metadata": {},
   "source": [
    "# Percent Points"
   ]
  },
  {
   "cell_type": "code",
   "execution_count": null,
   "metadata": {
    "collapsed": true
   },
   "outputs": [],
   "source": [
    "def ppfTangent(t, t0):\n",
    "    return (t-t0)/norm.pdf(norm.ppf(t0)) + norm.ppf(t0)"
   ]
  },
  {
   "cell_type": "code",
   "execution_count": null,
   "metadata": {
    "collapsed": true
   },
   "outputs": [],
   "source": [
    "def ppfUnderApprox(t, n):\n",
    "    return np.maximum(ppfTangent(t, 0.5), ppfTangent(t, n/(n+1)))"
   ]
  },
  {
   "cell_type": "code",
   "execution_count": null,
   "metadata": {
    "collapsed": true
   },
   "outputs": [],
   "source": [
    "def extremeQuantile(t):\n",
    "    return norm.ppf(1 - 1/t)"
   ]
  },
  {
   "cell_type": "code",
   "execution_count": null,
   "metadata": {
    "collapsed": true
   },
   "outputs": [],
   "source": [
    "def normalHazard(t):\n",
    "    return norm.pdf(t) / (1 - norm.cdf(t))"
   ]
  },
  {
   "cell_type": "code",
   "execution_count": null,
   "metadata": {
    "collapsed": true
   },
   "outputs": [],
   "source": [
    "n = 1000\n",
    "t_ = np.linspace(0, 1, n)\n",
    "t = np.linspace(1, n, n)\n",
    "T = np.linspace(-2, 2, n+1)\n",
    "\n",
    "mu_n = np.sqrt(2*np.log(n))\n",
    "\n",
    "PhiInv = norm.ppf(t_)\n",
    "y_under = ppfUnderApprox(t_, n)\n",
    "y_over = 2*mu_n*(t_-.5)"
   ]
  },
  {
   "cell_type": "code",
   "execution_count": null,
   "metadata": {
    "collapsed": true
   },
   "outputs": [],
   "source": [
    "plt.plot(T, normalHazard(T))"
   ]
  },
  {
   "cell_type": "code",
   "execution_count": null,
   "metadata": {
    "collapsed": true
   },
   "outputs": [],
   "source": [
    "plt.plot(t, extremeQuantile(t));\n",
    "plt.plot(t, np.sqrt(np.log(t)), 'r--');\n",
    "plt.plot(t, .8*np.sqrt(2*np.log(t)), 'g--');"
   ]
  },
  {
   "cell_type": "code",
   "execution_count": null,
   "metadata": {
    "collapsed": true
   },
   "outputs": [],
   "source": [
    "plt.figure(figsize=(10,6))\n",
    "plt.plot(t, PhiInv)\n",
    "plt.plot(t, y_under, 'r--')\n",
    "plt.plot(t, y_over, 'g--')\n",
    "plt.plot(t, np.zeros(t.shape), 'k:');\n",
    "plt.ylim(-5, 5);"
   ]
  },
  {
   "cell_type": "code",
   "execution_count": null,
   "metadata": {
    "collapsed": true
   },
   "outputs": [],
   "source": [
    "lam = 1\n",
    "idx = int(np.floor((n+1)*(1-norm.cdf(lam))))\n",
    "zU_under = y_under[-idx:]\n",
    "zU_over = y_under[-idx:]"
   ]
  },
  {
   "cell_type": "code",
   "execution_count": null,
   "metadata": {
    "collapsed": true
   },
   "outputs": [],
   "source": [
    "np.dot(zU_under, zU_under)"
   ]
  },
  {
   "cell_type": "code",
   "execution_count": null,
   "metadata": {
    "collapsed": true
   },
   "outputs": [],
   "source": [
    "lam * np.linalg.norm(zU_over, 1)"
   ]
  },
  {
   "cell_type": "code",
   "execution_count": null,
   "metadata": {
    "collapsed": true
   },
   "outputs": [],
   "source": [
    "def crudeApprox(n,lam):\n",
    "    t_ = np.linspace(0, 1, n)\n",
    "    PhiInv = norm.ppf(t_)\n",
    "    mu_n = np.sqrt(2*np.log(n))\n",
    "    y_under = ppfUnderApprox(t_, n)\n",
    "    y_over = 2*mu_n*(t_-.5)\n",
    "    idx = int(np.floor((n+1)*(1-norm.cdf(lam))))\n",
    "    zU_under = y_under[-idx:]\n",
    "    zU_over = y_under[-idx:]\n",
    "    return np.dot(zU_under, zU_under) - lam * np.linalg.norm(zU_over,1)"
   ]
  },
  {
   "cell_type": "markdown",
   "metadata": {},
   "source": [
    "# Now for a lower bound for $\\|z_U\\|_2^2$"
   ]
  },
  {
   "cell_type": "code",
   "execution_count": null,
   "metadata": {
    "collapsed": true
   },
   "outputs": [],
   "source": [
    "lam = 1\n",
    "z = np.random.randn(n)\n",
    "zU = pdmse.softThresh(z, lam)\n",
    "J = np.argsort(z)"
   ]
  },
  {
   "cell_type": "code",
   "execution_count": null,
   "metadata": {
    "collapsed": true
   },
   "outputs": [],
   "source": [
    "plt.plot(z[J]);\n",
    "plt.plot(zU[J]);"
   ]
  },
  {
   "cell_type": "code",
   "execution_count": null,
   "metadata": {
    "collapsed": true
   },
   "outputs": [],
   "source": [
    "plt.plot(t_, norm.ppf(t_));\n",
    "plt.plot(t_, )"
   ]
  },
  {
   "cell_type": "code",
   "execution_count": null,
   "metadata": {
    "collapsed": true
   },
   "outputs": [],
   "source": [
    "plt.plot(t_, norm.cdf(-2*t_))\n",
    "plt.plot(t_, norm.cdf((2*(t_-1))))"
   ]
  },
  {
   "cell_type": "code",
   "execution_count": null,
   "metadata": {
    "collapsed": true
   },
   "outputs": [],
   "source": [
    "plt.plot(t_, norm.ppf(t_));\n",
    "plt.plot(t_, (t_-.5)*(norm.cdf(-2*t_)/norm.pdf(0) + norm.cdf(2* (t_-1))*np.sqrt(8 *np.log(n))) )"
   ]
  },
  {
   "cell_type": "markdown",
   "metadata": {},
   "source": [
    "# Comparing one and two norms"
   ]
  },
  {
   "cell_type": "code",
   "execution_count": 15,
   "metadata": {
    "collapsed": true
   },
   "outputs": [],
   "source": [
    "lam_max = np.sqrt(2 * np.log(n))"
   ]
  },
  {
   "cell_type": "code",
   "execution_count": 16,
   "metadata": {
    "collapsed": true
   },
   "outputs": [],
   "source": [
    "n = 10000\n",
    "lam = lam_max * (3/5)\n",
    "\n",
    "z = np.random.randn(n)\n",
    "Sz = pdmse.softThresh(z, lam)"
   ]
  },
  {
   "cell_type": "code",
   "execution_count": 17,
   "metadata": {
    "collapsed": false
   },
   "outputs": [
    {
     "name": "stdout",
     "output_type": "stream",
     "text": [
      "lambda_max = 3.7169221888498383\n",
      "lambda = 2.230153313309903\n",
      "lambda^2 = 4.9735838008671385\n"
     ]
    }
   ],
   "source": [
    "print('lambda_max = {}'.format(lam_max))\n",
    "print('lambda = {}'.format(lam))\n",
    "print('lambda^2 = {}'.format(lam**2))"
   ]
  },
  {
   "cell_type": "code",
   "execution_count": 18,
   "metadata": {
    "collapsed": true
   },
   "outputs": [],
   "source": [
    "while np.dot(Sz, z) < np.sqrt(n):\n",
    "    z = np.random.randn(n)\n",
    "    Sz = pdmse.softThresh(z, lam)"
   ]
  },
  {
   "cell_type": "code",
   "execution_count": 19,
   "metadata": {
    "collapsed": false
   },
   "outputs": [
    {
     "name": "stdout",
     "output_type": "stream",
     "text": [
      "<S(z; lam), z> = 272.09780982238954\n",
      "<S(z; lam), z>/sqrt(n) = 2.7209780982238954\n",
      "|U| = 278\n"
     ]
    }
   ],
   "source": [
    "print('<S(z; lam), z> = {}'.format(np.dot(Sz,z)))\n",
    "print('<S(z; lam), z>/sqrt(n) = {}'.format(np.dot(Sz,z)/np.sqrt(n)))\n",
    "J = np.argsort(z)\n",
    "z = z[J]\n",
    "Sz = Sz[J]\n",
    "\n",
    "zU = z.copy()\n",
    "zU[Sz == 0] = 0\n",
    "\n",
    "cardU = n - np.sum(zU == 0)\n",
    "print('|U| = {}'.format(cardU))"
   ]
  },
  {
   "cell_type": "markdown",
   "metadata": {},
   "source": [
    "## Stats about $S_\\lambda(z)$"
   ]
  },
  {
   "cell_type": "code",
   "execution_count": 20,
   "metadata": {
    "collapsed": false
   },
   "outputs": [
    {
     "name": "stdout",
     "output_type": "stream",
     "text": [
      "norm(S(z;lam), 2)^2 = 60.58361269368194\n",
      "lam*norm(S(z;lam), 1) = 211.51419712870756\n"
     ]
    }
   ],
   "source": [
    "print('norm(S(z;lam), 2)^2 = {}'.format(np.dot(Sz, Sz)))\n",
    "print('lam*norm(S(z;lam), 1) = {}'.format(lam*np.linalg.norm(Sz, 1)))"
   ]
  },
  {
   "cell_type": "markdown",
   "metadata": {},
   "source": [
    "## Stats about $z_U$"
   ]
  },
  {
   "cell_type": "code",
   "execution_count": 21,
   "metadata": {
    "collapsed": false
   },
   "outputs": [
    {
     "name": "stdout",
     "output_type": "stream",
     "text": [
      "<zU, zU> = 1866.2683035921616\n",
      "2*lam*norm(zU, 1) = 714.8255163694414\n",
      "lam^2 * |U| = 1382.6562966410645\n"
     ]
    }
   ],
   "source": [
    "print('<zU, zU> = {}'.format(np.dot(zU, zU)))\n",
    "print('2*lam*norm(zU, 1) = {}'.format(np.linalg.norm(zU, 1)))\n",
    "print('lam^2 * |U| = {}'.format(lam**2 * cardU))"
   ]
  },
  {
   "cell_type": "markdown",
   "metadata": {},
   "source": [
    "## Of note\n",
    "\n",
    "1. We have observed that $\\lambda \\|z_U\\|_1 \\leq (\\tilde s \\sqrt{2 \\log n}) (C \\sqrt{s \\log(n/s)})$ where $\\tilde s = |U|$. Should it be that $\\tilde s = \\sqrt n$? $n^{1/4}$? $n^{1/8}$? \n",
    "2. $\\|z_U\\|_1^2 = \\|z_U\\|_2^2 + \\sum_{j\\neq k} z_{(j)}z_{(k)}$ so maybe we can quantify the sum of some of the off-diagonal elements of the matrix $[z_{(j)}z_{(k)}]_{j,k}$ using the result in that pdf book I have. \n",
    "3. Empirically, it seems to be the case that $\\langle S_\\lambda (z), z\\rangle \\approx |U| = \\tilde s$. It is typically very close but can vary by about 10%, max. Is the reason for this obvious? "
   ]
  },
  {
   "cell_type": "markdown",
   "metadata": {},
   "source": [
    "# Lower-bounding Lipschitz functions?"
   ]
  },
  {
   "cell_type": "code",
   "execution_count": 4,
   "metadata": {
    "collapsed": true
   },
   "outputs": [],
   "source": [
    "def approximateThresholdScaling(lam, n, k=1000):\n",
    "    \"\"\"\n",
    "    approximateThresholdScaling(lam, n[, k]) \n",
    "    Finds the distribution of the constant K such that\n",
    "        <S(z; lambda), z> = K(z, lambda) <S(z; lambda), S(z; lambda)>\n",
    "    where z ~ N(0, 1), lambda > 0 and S(.; lambda) is the \n",
    "    lambda-soft thresholding operator\n",
    "        S(z; lambda) = max(0, |z| - lambda) * sgn(z). \n",
    "    We know from Convex Analysis that S(.; lambda) is firmly non-expansive\n",
    "    For all z, w, a convex function f is firmly non-expansive if\n",
    "        <f(z) - f(w), z - w> ≥ <f(z) - f(w), f(z) - f(w)>\n",
    "    Moreover, we know that S(.; lambda) is Lipschitz continuous with \n",
    "    Lipschitz constant almost surely equal to 1\n",
    "        ||S(z; lambda) - S(w; lambda)|| ≤ L ||z - w||. \n",
    "    We are hoping to even further constrain the behaviour of the \n",
    "    soft-thresholding operator to determine a minimum growth rate of its\n",
    "    norm with respect to dimension. \n",
    "    \"\"\"\n",
    "    z = np.random.randn(n, k)\n",
    "    Sz = pdmse.softThresh(z, lam)\n",
    "    return np.einsum('i...,i...', Sz, z) / np.einsum('i...,i...', Sz, Sz)"
   ]
  },
  {
   "cell_type": "code",
   "execution_count": 70,
   "metadata": {
    "collapsed": true
   },
   "outputs": [],
   "source": [
    "def approximateThresholdScaling2(lam, n, k=1000):\n",
    "    Sz = pdmse.softThresh(np.random.randn(n, k), lam)\n",
    "    Sz1 = np.linalg.norm(Sz, axis=0)\n",
    "    Sz2sq = np.einsum('i...,i...', Sz, Sz)\n",
    "    return lam * Sz1 / Sz2sq"
   ]
  },
  {
   "cell_type": "markdown",
   "metadata": {},
   "source": [
    "## For fixed $n$. "
   ]
  },
  {
   "cell_type": "code",
   "execution_count": 65,
   "metadata": {
    "collapsed": true
   },
   "outputs": [],
   "source": [
    "n = 10000; k = 1000;\n",
    "s = 1\n",
    "lam_max = np.sqrt(np.log(n))\n",
    "rho = 1 #3/5\n",
    "lamVec = np.linspace(.1, rho*lam_max, 500);"
   ]
  },
  {
   "cell_type": "code",
   "execution_count": 68,
   "metadata": {
    "collapsed": false
   },
   "outputs": [
    {
     "name": "stdout",
     "output_type": "stream",
     "text": [
      "96.2 %\r"
     ]
    }
   ],
   "source": [
    "thrDist = np.zeros((lamVec.size, k))\n",
    "thrDist2 = np.zeros((lamVec.size, k))\n",
    "for ell, lam in enumerate(lamVec):\n",
    "    if (10*ell % 300) == 0:\n",
    "        print('{} %'.format(np.round(100*(ell+1)/lamVec.size, 1)), end='\\r')\n",
    "    thrDist[ell, :] = approximateThresholdScaling(lam, n, k)\n",
    "    thrDist2[ell, :] = approximateThresholdScaling2(lam, n, k)"
   ]
  },
  {
   "cell_type": "code",
   "execution_count": 69,
   "metadata": {
    "collapsed": false
   },
   "outputs": [
    {
     "data": {
      "image/png": "[encoded data removed]",
      "text/plain": [
       "<matplotlib.figure.Figure at 0x12948cbe0>"
      ]
     },
     "metadata": {},
     "output_type": "display_data"
    }
   ],
   "source": [
    "plt.figure(figsize=(10,5));\n",
    "plt.plot(lamVec, thrDist.mean(axis=1));\n",
    "plt.plot(lamVec, thrDist.mean(axis=1) - thrDist.std(axis=1), 'g--')\n",
    "plt.plot(lamVec, thrDist.mean(axis=1) + thrDist.std(axis=1), 'g--')\n",
    "plt.plot(lamVec, (lamVec + 1) * (lamVec < 1) + 2*lamVec*(lamVec >=1), 'r:');\n",
    "plt.title('$\\\\langle S(z;\\\\lambda),z \\\\rangle / \\\\|S(z; \\\\lambda)\\\\|_2^2$', size=18);"
   ]
  },
  {
   "cell_type": "markdown",
   "metadata": {},
   "source": [
    "# When $\\lambda = 1$"
   ]
  },
  {
   "cell_type": "code",
   "execution_count": 22,
   "metadata": {
    "collapsed": false
   },
   "outputs": [
    {
     "data": {
      "image/png": "[encoded data removed]",
      "text/plain": [
       "<matplotlib.figure.Figure at 0x1110c18d0>"
      ]
     },
     "metadata": {},
     "output_type": "display_data"
    }
   ],
   "source": [
    "lower_constant_approx1 = approximateThresholdScaling(1, 1000, 10000)\n",
    "plt.figure(figsize=(10,3))\n",
    "pdf, bins, patches = plt.hist(lower_constant_approx1, bins=30, normed=True, color=(0,0,1,.5));\n",
    "ymin, ymax = plt.ylim();\n",
    "mu1 = lower_constant_approx1.mean()\n",
    "std1 = lower_constant_approx1.std()\n",
    "plt.vlines(mu1, 0, ymax, 'r', 'dashed', lw=2, label='µ = {:5.4g}'.format(mu1));\n",
    "plt.vlines([mu1 - std1, mu1 + std1], 0, ymax, 'r', 'dotted', lw=2);\n",
    "plt.legend();"
   ]
  },
  {
   "cell_type": "code",
   "execution_count": 23,
   "metadata": {
    "collapsed": false
   },
   "outputs": [
    {
     "data": {
      "image/png": "[encoded data removed]",
      "text/plain": [
       "<matplotlib.figure.Figure at 0x1111ce588>"
      ]
     },
     "metadata": {},
     "output_type": "display_data"
    }
   ],
   "source": [
    "lower_constant_approx2 = approximateThresholdScaling(1, 10000, 1000)\n",
    "plt.figure(figsize=(10,3))\n",
    "pdf2, bins2, patches2 = plt.hist(lower_constant_approx2, bins=bins, normed=True, color=(0,0,1,.5));\n",
    "ymin2, ymax2 = plt.ylim();\n",
    "mu2 = lower_constant_approx2.mean()\n",
    "std2 = lower_constant_approx2.std()\n",
    "plt.vlines(mu2, 0, ymax2, 'r', 'dashed', lw=2, label='µ = {:5.4g}'.format(mu2));\n",
    "plt.vlines([mu2 - std2, mu2 + std2], 0, ymax2, 'r', 'dotted', lw=2);\n",
    "plt.legend();"
   ]
  },
  {
   "cell_type": "markdown",
   "metadata": {},
   "source": [
    "# When $\\lambda = \\rho \\sqrt{s \\log (n/s)}$"
   ]
  },
  {
   "cell_type": "code",
   "execution_count": 24,
   "metadata": {
    "collapsed": true
   },
   "outputs": [],
   "source": [
    "rho = 3/5\n",
    "s = 2\n",
    "n3 = 1000\n",
    "lam3 = rho * np.sqrt(s*np.log(n3/s))\n",
    "\n",
    "lower_constant_approx3 = approximateThresholdScaling(lam3, n3, 10000)"
   ]
  },
  {
   "cell_type": "code",
   "execution_count": 26,
   "metadata": {
    "collapsed": false
   },
   "outputs": [
    {
     "name": "stdout",
     "output_type": "stream",
     "text": [
      "lambda = 2.1153056116939646\n"
     ]
    },
    {
     "data": {
      "image/png": "[encoded data removed]",
      "text/plain": [
       "<matplotlib.figure.Figure at 0x126e248d0>"
      ]
     },
     "metadata": {},
     "output_type": "display_data"
    }
   ],
   "source": [
    "plt.figure(figsize=(10,3))\n",
    "pdf, bins, patches = plt.hist(lower_constant_approx3, bins=30, normed=True, color=(0,0,1,.5));\n",
    "ymin, ymax = plt.ylim();\n",
    "mu3 = lower_constant_approx3.mean()\n",
    "std3 = lower_constant_approx3.std()\n",
    "plt.vlines(mu3, 0, ymax, 'r', 'dashed', lw=2, label='µ = {:5.4g}'.format(mu3));\n",
    "plt.vlines([mu3 - std3, mu3 + std3], 0, ymax, 'r', 'dotted', lw=2);\n",
    "plt.legend();\n",
    "print('lambda = {}'.format(lam3))"
   ]
  },
  {
   "cell_type": "markdown",
   "metadata": {
    "variables": {
     "print(np.round(2 * lam3, 2))": "4.23"
    }
   },
   "source": [
    "$2 \\lambda \\approx $ {{print(np.round(2 * lam3, 2))}}"
   ]
  },
  {
   "cell_type": "code",
   "execution_count": 29,
   "metadata": {
    "collapsed": true
   },
   "outputs": [],
   "source": [
    "n4 = 10000\n",
    "lam4 = rho * np.sqrt(s*np.log(n4/s))\n",
    "\n",
    "lower_constant_approx4 = approximateThresholdScaling(lam4, n4, 10000)"
   ]
  },
  {
   "cell_type": "code",
   "execution_count": 35,
   "metadata": {
    "collapsed": false
   },
   "outputs": [
    {
     "data": {
      "image/png": "[encoded data removed]",
      "text/plain": [
       "<matplotlib.figure.Figure at 0x1110c92b0>"
      ]
     },
     "metadata": {},
     "output_type": "display_data"
    }
   ],
   "source": [
    "plt.figure(figsize=(10,3))\n",
    "pdf, bins, patches = plt.hist(lower_constant_approx4, bins=30, normed=True, color=(0,0,1,.5));\n",
    "ymin, ymax = plt.ylim();\n",
    "mu4 = lower_constant_approx4.mean()\n",
    "std4 = lower_constant_approx4.std()\n",
    "plt.vlines(mu4, 0, ymax, 'r', 'dashed', lw=2, label='µ = {:5.4g}'.format(mu4));\n",
    "plt.vlines([mu4 - std4, mu4 + std4], 0, ymax, 'r', 'dotted', lw=2);\n",
    "plt.legend();"
   ]
  },
  {
   "cell_type": "markdown",
   "metadata": {
    "variables": {
     "print(np.round(2 * lam4, 2))": "4.95"
    }
   },
   "source": [
    "$2 \\lambda \\approx $ {{print(np.round(2 * lam4, 2))}}"
   ]
  },
  {
   "cell_type": "code",
   "execution_count": null,
   "metadata": {
    "collapsed": true
   },
   "outputs": [],
   "source": [
    "print(lam3)\n",
    "print(lam4)"
   ]
  },
  {
   "cell_type": "code",
   "execution_count": null,
   "metadata": {
    "collapsed": true
   },
   "outputs": [],
   "source": [
    "lam4/lam3"
   ]
  },
  {
   "cell_type": "code",
   "execution_count": null,
   "metadata": {
    "collapsed": true
   },
   "outputs": [],
   "source": [
    "mu3/mu4"
   ]
  },
  {
   "cell_type": "code",
   "execution_count": null,
   "metadata": {
    "collapsed": true
   },
   "outputs": [],
   "source": [
    ".5/lam3"
   ]
  },
  {
   "cell_type": "code",
   "execution_count": null,
   "metadata": {
    "collapsed": true
   },
   "outputs": [],
   "source": [
    ".5/lam4"
   ]
  },
  {
   "cell_type": "markdown",
   "metadata": {},
   "source": [
    "# Comparing support size and inner-product"
   ]
  },
  {
   "cell_type": "code",
   "execution_count": 4,
   "metadata": {
    "collapsed": true
   },
   "outputs": [],
   "source": [
    "from scipy.stats import norm\n",
    "from scipy.stats import normaltest\n",
    "from statsmodels.stats.diagnostic import normal_ad, lillifors\n",
    "from statsmodels.graphics.gofplots import qqplot"
   ]
  },
  {
   "cell_type": "code",
   "execution_count": 24,
   "metadata": {
    "collapsed": true
   },
   "outputs": [],
   "source": [
    "mydict = {'a' : 1}"
   ]
  },
  {
   "cell_type": "code",
   "execution_count": 39,
   "metadata": {
    "collapsed": false
   },
   "outputs": [
    {
     "data": {
      "text/plain": [
       "1"
      ]
     },
     "execution_count": 39,
     "metadata": {},
     "output_type": "execute_result"
    }
   ],
   "source": [
    "list(mydict.values())[0]"
   ]
  },
  {
   "cell_type": "code",
   "execution_count": 64,
   "metadata": {
    "collapsed": true
   },
   "outputs": [],
   "source": [
    "def SupportSizeInnerProductDistribution(lam, n, k=1000, report=None):\n",
    "    \"\"\"\n",
    "    SupportSizeInnerProductDistribution(lam, n[, k]) returns the ratio\n",
    "        <S(z; lambda), z> / #U, U := {j : S(z[j]; lambda) ≠ 0}\n",
    "    \"\"\"\n",
    "    z = np.random.randn(n,k)\n",
    "    Sz = pdmse.softThresh(z, lam)\n",
    "    ip = np.einsum('i..., i...', Sz, z)\n",
    "    ss = np.sum( np.abs(Sz) > 0, axis=0)\n",
    "    if report == 'mean':\n",
    "        return (ip-ss).mean()\n",
    "    else:\n",
    "        return {'difference': ip - ss, 'ratio': ip/ss}"
   ]
  },
  {
   "cell_type": "code",
   "execution_count": 51,
   "metadata": {
    "collapsed": true
   },
   "outputs": [],
   "source": [
    "ssipRatio_Sample = SupportSizeInnerProductDistribution(2, 10000, k=10000)"
   ]
  },
  {
   "cell_type": "markdown",
   "metadata": {},
   "source": [
    "Compare S_lam (z) and |U| for other values of lambda than 1 and 2 (higher values)"
   ]
  },
  {
   "cell_type": "markdown",
   "metadata": {},
   "source": [
    "## Distribution of difference between inner product and support size"
   ]
  },
  {
   "cell_type": "code",
   "execution_count": 52,
   "metadata": {
    "collapsed": false
   },
   "outputs": [
    {
     "data": {
      "image/png": "[encoded data removed]",
      "text/plain": [
       "<matplotlib.figure.Figure at 0x7f3f49a7dbe0>"
      ]
     },
     "metadata": {},
     "output_type": "display_data"
    }
   ],
   "source": [
    "mu_ssip = ssipRatio_Sample['difference'].mean()\n",
    "sigma_ssip = ssipRatio_Sample['difference'].std()\n",
    "ssip_x = np.linspace(ssipRatio_Sample['difference'].min(), ssipRatio_Sample['difference'].max(), 1001);\n",
    "ssip_pdf = norm.pdf((ssip_x - mu_ssip)/sigma_ssip);\n",
    "plt.hist(ssipRatio_Sample['difference'], normed=True, bins=40, color=(.2, 0, .8, .5), lw=2, histtype='step');\n",
    "plt.plot(ssip_x, ssip_pdf/sigma_ssip, ':', lw=2, color=(.8, 0, .2, .8));"
   ]
  },
  {
   "cell_type": "code",
   "execution_count": 53,
   "metadata": {
    "collapsed": false
   },
   "outputs": [
    {
     "name": "stdout",
     "output_type": "stream",
     "text": [
      "(2.0304013593140553, 3.6360031204349405e-05)\n",
      "(0.012642416366656084, 0.0010625339667220269)\n",
      "NormaltestResult(statistic=26.981129823640995, pvalue=1.3839554206224238e-06)\n"
     ]
    }
   ],
   "source": [
    "print(normal_ad(ssipRatio_Sample['difference']))\n",
    "print(lillifors(ssipRatio_Sample['difference']))\n",
    "print(normaltest(ssipRatio_Sample['difference']))"
   ]
  },
  {
   "cell_type": "markdown",
   "metadata": {},
   "source": [
    "Okay so we can reject the null hypothesis for a sample size this large. \n",
    "This makes sense: $\\langle S_\\lambda(z), z\\rangle / |U| > 0$ so the distribution cannot be normal, even if it looks that way. What does a qq-plot say? "
   ]
  },
  {
   "cell_type": "code",
   "execution_count": 54,
   "metadata": {
    "collapsed": false
   },
   "outputs": [
    {
     "data": {
      "image/png": "[encoded data removed]",
      "text/plain": [
       "<matplotlib.figure.Figure at 0x7f3f49a36278>"
      ]
     },
     "metadata": {},
     "output_type": "display_data"
    }
   ],
   "source": [
    "qqplot(ssipRatio_Sample['difference'], fit=True, line='45');"
   ]
  },
  {
   "cell_type": "code",
   "execution_count": 62,
   "metadata": {
    "collapsed": false
   },
   "outputs": [
    {
     "data": {
      "text/plain": [
       "0.0032435863309167126"
      ]
     },
     "execution_count": 62,
     "metadata": {},
     "output_type": "execute_result"
    }
   ],
   "source": [
    "(ssipRatio_Sample['difference'].mean())/ssipRatio_Sample['difference'].std()"
   ]
  },
  {
   "cell_type": "markdown",
   "metadata": {},
   "source": [
    "## Distribution of ratio of inner product and support size"
   ]
  },
  {
   "cell_type": "code",
   "execution_count": 58,
   "metadata": {
    "collapsed": false
   },
   "outputs": [
    {
     "data": {
      "image/png": "[encoded data removed]",
      "text/plain": [
       "<matplotlib.figure.Figure at 0x7f3f49e4d6a0>"
      ]
     },
     "metadata": {},
     "output_type": "display_data"
    }
   ],
   "source": [
    "mu_ssipR = ssipRatio_Sample['ratio'].mean()\n",
    "sigma_ssipR = ssipRatio_Sample['ratio'].std()\n",
    "ssip_xR = np.linspace(ssipRatio_Sample['ratio'].min(), ssipRatio_Sample['ratio'].max(), 1001);\n",
    "ssip_pdfR = norm.pdf((ssip_xR - mu_ssipR)/sigma_ssipR);\n",
    "plt.hist(ssipRatio_Sample['ratio'], normed=True, bins=40, color=(.2, 0, .8, .5), lw=2, histtype='step');\n",
    "plt.plot(ssip_xR, ssip_pdfR/sigma_ssipR, ':', lw=2, color=(.8, 0, .2, .8));"
   ]
  },
  {
   "cell_type": "code",
   "execution_count": 59,
   "metadata": {
    "collapsed": false
   },
   "outputs": [
    {
     "name": "stdout",
     "output_type": "stream",
     "text": [
      "(2.1592634546141198, 1.7597989724366849e-05)\n",
      "(0.011420464274193576, 0.0051501683721054334)\n",
      "NormaltestResult(statistic=26.896724891275145, pvalue=1.4436117199722139e-06)\n"
     ]
    }
   ],
   "source": [
    "print(normal_ad(ssipRatio_Sample['ratio']))\n",
    "print(lillifors(ssipRatio_Sample['ratio']))\n",
    "print(normaltest(ssipRatio_Sample['ratio']))"
   ]
  },
  {
   "cell_type": "code",
   "execution_count": 60,
   "metadata": {
    "collapsed": false
   },
   "outputs": [
    {
     "data": {
      "image/png": "[encoded data removed]",
      "text/plain": [
       "<matplotlib.figure.Figure at 0x7f3f49deac18>"
      ]
     },
     "metadata": {},
     "output_type": "display_data"
    }
   ],
   "source": [
    "qqplot(ssipRatio_Sample['ratio'], fit=True, line='45');"
   ]
  },
  {
   "cell_type": "markdown",
   "metadata": {},
   "source": [
    "So a normal distribution kind of doesn't wind up fitting the left tail. "
   ]
  },
  {
   "cell_type": "code",
   "execution_count": 63,
   "metadata": {
    "collapsed": false
   },
   "outputs": [
    {
     "data": {
      "text/plain": [
       "0.0036241868457779665"
      ]
     },
     "execution_count": 63,
     "metadata": {},
     "output_type": "execute_result"
    }
   ],
   "source": [
    "(ssipRatio_Sample['ratio'].mean() - 1)/ssipRatio_Sample['ratio'].std()"
   ]
  },
  {
   "cell_type": "markdown",
   "metadata": {},
   "source": [
    "## ssipRatio means for different values of $\\lambda$"
   ]
  },
  {
   "cell_type": "code",
   "execution_count": 66,
   "metadata": {
    "collapsed": true
   },
   "outputs": [],
   "source": [
    "ssipRatio_Means = np.zeros(lamVec.shape)"
   ]
  },
  {
   "cell_type": "code",
   "execution_count": 69,
   "metadata": {
    "collapsed": false
   },
   "outputs": [
    {
     "name": "stdout",
     "output_type": "stream",
     "text": [
      "Progress: 0.0 %\n",
      "Progress: 10.0 %\n",
      "Progress: 20.0 %\n",
      "Progress: 30.0 %\n",
      "Progress: 40.0 %\n",
      "Progress: 50.0 %\n",
      "Progress: 60.0 %\n",
      "Progress: 70.0 %\n",
      "Progress: 80.0 %\n",
      "Progress: 90.0 %\n"
     ]
    }
   ],
   "source": [
    "for j, lam in enumerate(lamVec):\n",
    "    if (j % 50) == 0:\n",
    "        print('Progress: {} %'.format(np.round(j*100/lamVec.size)), end='\\r')\n",
    "    ssipRatio_Means[j] = SupportSizeInnerProductDistribution(lam, 1000, k=10000, report='mean')"
   ]
  },
  {
   "cell_type": "code",
   "execution_count": 75,
   "metadata": {
    "collapsed": false
   },
   "outputs": [
    {
     "data": {
      "image/png": "[encoded data removed]",
      "text/plain": [
       "<matplotlib.figure.Figure at 0x7f3f49842518>"
      ]
     },
     "metadata": {},
     "output_type": "display_data"
    }
   ],
   "source": [
    "plt.figure(figsize=(15,5))\n",
    "plt.plot(lamVec, ssipRatio_Means, '.')\n",
    "plt.hlines(0, lamVec.min(), lamVec.max(), colors='r', linestyles='dashed');"
   ]
  },
  {
   "cell_type": "markdown",
   "metadata": {},
   "source": [
    "This plot shows that we expect a mean of zero regardless of the value of $\\lambda$ but that the standard deviation is controlled by the value of $\\lambda$. "
   ]
  },
  {
   "cell_type": "code",
   "execution_count": null,
   "metadata": {
    "collapsed": true
   },
   "outputs": [],
   "source": []
  },
  {
   "cell_type": "code",
   "execution_count": null,
   "metadata": {
    "collapsed": true
   },
   "outputs": [],
   "source": []
  },
  {
   "cell_type": "code",
   "execution_count": null,
   "metadata": {
    "collapsed": true
   },
   "outputs": [],
   "source": []
  },
  {
   "cell_type": "code",
   "execution_count": null,
   "metadata": {
    "collapsed": true
   },
   "outputs": [],
   "source": []
  },
  {
   "cell_type": "code",
   "execution_count": null,
   "metadata": {
    "collapsed": true
   },
   "outputs": [],
   "source": []
  },
  {
   "cell_type": "code",
   "execution_count": null,
   "metadata": {
    "collapsed": true
   },
   "outputs": [],
   "source": []
  },
  {
   "cell_type": "code",
   "execution_count": null,
   "metadata": {
    "collapsed": true
   },
   "outputs": [],
   "source": []
  }
 ],
 "metadata": {
  "anaconda-cloud": {},
  "hide_input": false,
  "kernelspec": {
   "display_name": "Python [default]",
   "language": "python",
   "name": "python3"
  },
  "language_info": {
   "codemirror_mode": {
    "name": "ipython",
    "version": 3
   },
   "file_extension": ".py",
   "mimetype": "text/x-python",
   "name": "python",
   "nbconvert_exporter": "python",
   "pygments_lexer": "ipython3",
   "version": "3.5.2"
  },
  "toc": {
   "colors": {
    "hover_highlight": "#DAA520",
    "navigate_num": "#000000",
    "navigate_text": "#333333",
    "running_highlight": "#FF0000",
    "selected_highlight": "#FFD700",
    "sidebar_border": "#EEEEEE",
    "wrapper_background": "#FFFFFF"
   },
   "moveMenuLeft": true,
   "nav_menu": {
    "height": "12px",
    "width": "252px"
   },
   "navigate_menu": true,
   "number_sections": true,
   "sideBar": true,
   "threshold": 4,
   "toc_cell": true,
   "toc_section_display": "block",
   "toc_window_display": false,
   "widenNotebook": false
  }
 },
 "nbformat": 4,
 "nbformat_minor": 1
}
