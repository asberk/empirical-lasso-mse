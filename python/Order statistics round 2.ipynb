{
 "cells": [
  {
   "cell_type": "markdown",
   "metadata": {
    "toc": "true"
   },
   "source": [
    "# Table of Contents\n",
    " <p><div class=\"lev1 toc-item\"><a href=\"#Import\" data-toc-modified-id=\"Import-1\"><span class=\"toc-item-num\">1&nbsp;&nbsp;</span>Import</a></div><div class=\"lev1 toc-item\"><a href=\"#Percent-Points\" data-toc-modified-id=\"Percent-Points-2\"><span class=\"toc-item-num\">2&nbsp;&nbsp;</span>Percent Points</a></div><div class=\"lev1 toc-item\"><a href=\"#Now-for-a-lower-bound-for-|z_U\\|_2^2\" data-toc-modified-id=\"Now-for-a-lower-bound-for-|z_U\\|_2^2-3\"><span class=\"toc-item-num\">3&nbsp;&nbsp;</span>Now for a lower bound for $\\|z_U\\|_2^2$</a></div><div class=\"lev1 toc-item\"><a href=\"#Comparing-one-and-two-norms\" data-toc-modified-id=\"Comparing-one-and-two-norms-4\"><span class=\"toc-item-num\">4&nbsp;&nbsp;</span>Comparing one and two norms</a></div><div class=\"lev2 toc-item\"><a href=\"#Stats-about-S_lambda(z)\" data-toc-modified-id=\"Stats-about-S_lambda(z)-41\"><span class=\"toc-item-num\">4.1&nbsp;&nbsp;</span>Stats about $S_\\lambda(z)$</a></div><div class=\"lev2 toc-item\"><a href=\"#Stats-about-z_U\" data-toc-modified-id=\"Stats-about-z_U-42\"><span class=\"toc-item-num\">4.2&nbsp;&nbsp;</span>Stats about $z_U$</a></div><div class=\"lev2 toc-item\"><a href=\"#Of-note\" data-toc-modified-id=\"Of-note-43\"><span class=\"toc-item-num\">4.3&nbsp;&nbsp;</span>Of note</a></div><div class=\"lev1 toc-item\"><a href=\"#Lower-bounding-Lipschitz-functions?\" data-toc-modified-id=\"Lower-bounding-Lipschitz-functions?-5\"><span class=\"toc-item-num\">5&nbsp;&nbsp;</span>Lower-bounding Lipschitz functions?</a></div><div class=\"lev2 toc-item\"><a href=\"#For-fixed-n.\" data-toc-modified-id=\"For-fixed-n.-51\"><span class=\"toc-item-num\">5.1&nbsp;&nbsp;</span>For fixed $n$.</a></div><div class=\"lev1 toc-item\"><a href=\"#When-lambda-=-1\" data-toc-modified-id=\"When-lambda-=-1-6\"><span class=\"toc-item-num\">6&nbsp;&nbsp;</span>When $\\lambda = 1$</a></div><div class=\"lev1 toc-item\"><a href=\"#When-lambda-=-\\rho-\\sqrt{s-\\log-(n/s)}\" data-toc-modified-id=\"When-lambda-=-\\rho-\\sqrt{s-\\log-(n/s)}-7\"><span class=\"toc-item-num\">7&nbsp;&nbsp;</span>When $\\lambda = \\rho \\sqrt{s \\log (n/s)}$</a></div><div class=\"lev1 toc-item\"><a href=\"#Comparing-support-size-and-inner-product\" data-toc-modified-id=\"Comparing-support-size-and-inner-product-8\"><span class=\"toc-item-num\">8&nbsp;&nbsp;</span>Comparing support size and inner-product</a></div>"
   ]
  },
  {
   "cell_type": "markdown",
   "metadata": {},
   "source": [
    "# Import"
   ]
  },
  {
   "cell_type": "code",
   "execution_count": 1,
   "metadata": {},
   "outputs": [
    {
     "name": "stdout",
     "output_type": "stream",
     "text": [
      "Populating the interactive namespace from numpy and matplotlib\n"
     ]
    }
   ],
   "source": [
    "%pylab inline"
   ]
  },
  {
   "cell_type": "code",
   "execution_count": 2,
   "metadata": {
    "collapsed": true
   },
   "outputs": [],
   "source": [
    "from scipy.stats import norm"
   ]
  },
  {
   "cell_type": "code",
   "execution_count": 3,
   "metadata": {},
   "outputs": [
    {
     "name": "stdout",
     "output_type": "stream",
     "text": [
      "trying alternative import for spgl1...\n",
      "No module named 'spgl1'\n"
     ]
    }
   ],
   "source": [
    "import pdmse"
   ]
  },
  {
   "cell_type": "markdown",
   "metadata": {},
   "source": [
    "# Percent Points"
   ]
  },
  {
   "cell_type": "code",
   "execution_count": null,
   "metadata": {
    "collapsed": true
   },
   "outputs": [],
   "source": [
    "def ppfTangent(t, t0):\n",
    "    return (t-t0)/norm.pdf(norm.ppf(t0)) + norm.ppf(t0)"
   ]
  },
  {
   "cell_type": "code",
   "execution_count": null,
   "metadata": {
    "collapsed": true
   },
   "outputs": [],
   "source": [
    "def ppfUnderApprox(t, n):\n",
    "    return np.maximum(ppfTangent(t, 0.5), ppfTangent(t, n/(n+1)))"
   ]
  },
  {
   "cell_type": "code",
   "execution_count": null,
   "metadata": {
    "collapsed": true
   },
   "outputs": [],
   "source": [
    "def extremeQuantile(t):\n",
    "    return norm.ppf(1 - 1/t)"
   ]
  },
  {
   "cell_type": "code",
   "execution_count": null,
   "metadata": {
    "collapsed": true
   },
   "outputs": [],
   "source": [
    "def normalHazard(t):\n",
    "    return norm.pdf(t) / (1 - norm.cdf(t))"
   ]
  },
  {
   "cell_type": "code",
   "execution_count": null,
   "metadata": {
    "collapsed": true
   },
   "outputs": [],
   "source": [
    "n = 1000\n",
    "t_ = np.linspace(0, 1, n)\n",
    "t = np.linspace(1, n, n)\n",
    "T = np.linspace(-2, 2, n+1)\n",
    "\n",
    "mu_n = np.sqrt(2*np.log(n))\n",
    "\n",
    "PhiInv = norm.ppf(t_)\n",
    "y_under = ppfUnderApprox(t_, n)\n",
    "y_over = 2*mu_n*(t_-.5)"
   ]
  },
  {
   "cell_type": "code",
   "execution_count": null,
   "metadata": {},
   "outputs": [],
   "source": [
    "plt.plot(T, normalHazard(T))"
   ]
  },
  {
   "cell_type": "code",
   "execution_count": null,
   "metadata": {},
   "outputs": [],
   "source": [
    "plt.plot(t, extremeQuantile(t));\n",
    "plt.plot(t, np.sqrt(np.log(t)), 'r--');\n",
    "plt.plot(t, .8*np.sqrt(2*np.log(t)), 'g--');"
   ]
  },
  {
   "cell_type": "code",
   "execution_count": null,
   "metadata": {},
   "outputs": [],
   "source": [
    "plt.figure(figsize=(10,6))\n",
    "plt.plot(t, PhiInv)\n",
    "plt.plot(t, y_under, 'r--')\n",
    "plt.plot(t, y_over, 'g--')\n",
    "plt.plot(t, np.zeros(t.shape), 'k:');\n",
    "plt.ylim(-5, 5);"
   ]
  },
  {
   "cell_type": "code",
   "execution_count": null,
   "metadata": {},
   "outputs": [],
   "source": [
    "lam = 1\n",
    "idx = int(np.floor((n+1)*(1-norm.cdf(lam))))\n",
    "zU_under = y_under[-idx:]\n",
    "zU_over = y_under[-idx:]"
   ]
  },
  {
   "cell_type": "code",
   "execution_count": null,
   "metadata": {},
   "outputs": [],
   "source": [
    "np.dot(zU_under, zU_under)"
   ]
  },
  {
   "cell_type": "code",
   "execution_count": null,
   "metadata": {},
   "outputs": [],
   "source": [
    "lam * np.linalg.norm(zU_over, 1)"
   ]
  },
  {
   "cell_type": "code",
   "execution_count": null,
   "metadata": {
    "collapsed": true
   },
   "outputs": [],
   "source": [
    "def crudeApprox(n,lam):\n",
    "    t_ = np.linspace(0, 1, n)\n",
    "    PhiInv = norm.ppf(t_)\n",
    "    mu_n = np.sqrt(2*np.log(n))\n",
    "    y_under = ppfUnderApprox(t_, n)\n",
    "    y_over = 2*mu_n*(t_-.5)\n",
    "    idx = int(np.floor((n+1)*(1-norm.cdf(lam))))\n",
    "    zU_under = y_under[-idx:]\n",
    "    zU_over = y_under[-idx:]\n",
    "    return np.dot(zU_under, zU_under) - lam * np.linalg.norm(zU_over,1)"
   ]
  },
  {
   "cell_type": "markdown",
   "metadata": {},
   "source": [
    "# Now for a lower bound for $\\|z_U\\|_2^2$"
   ]
  },
  {
   "cell_type": "code",
   "execution_count": null,
   "metadata": {
    "collapsed": true
   },
   "outputs": [],
   "source": [
    "lam = 1\n",
    "z = np.random.randn(n)\n",
    "zU = pdmse.softThresh(z, lam)\n",
    "J = np.argsort(z)"
   ]
  },
  {
   "cell_type": "code",
   "execution_count": null,
   "metadata": {},
   "outputs": [],
   "source": [
    "plt.plot(z[J]);\n",
    "plt.plot(zU[J]);"
   ]
  },
  {
   "cell_type": "code",
   "execution_count": null,
   "metadata": {},
   "outputs": [],
   "source": [
    "plt.plot(t_, norm.ppf(t_));\n",
    "plt.plot(t_, )"
   ]
  },
  {
   "cell_type": "code",
   "execution_count": null,
   "metadata": {},
   "outputs": [],
   "source": [
    "plt.plot(t_, norm.cdf(-2*t_))\n",
    "plt.plot(t_, norm.cdf((2*(t_-1))))"
   ]
  },
  {
   "cell_type": "code",
   "execution_count": null,
   "metadata": {},
   "outputs": [],
   "source": [
    "plt.plot(t_, norm.ppf(t_));\n",
    "plt.plot(t_, (t_-.5)*(norm.cdf(-2*t_)/norm.pdf(0) + norm.cdf(2* (t_-1))*np.sqrt(8 *np.log(n))) )"
   ]
  },
  {
   "cell_type": "markdown",
   "metadata": {},
   "source": [
    "# Comparing one and two norms"
   ]
  },
  {
   "cell_type": "code",
   "execution_count": 15,
   "metadata": {
    "collapsed": true
   },
   "outputs": [],
   "source": [
    "lam_max = np.sqrt(2 * np.log(n))"
   ]
  },
  {
   "cell_type": "code",
   "execution_count": 16,
   "metadata": {
    "collapsed": true
   },
   "outputs": [],
   "source": [
    "n = 10000\n",
    "lam = lam_max * (3/5)\n",
    "\n",
    "z = np.random.randn(n)\n",
    "Sz = pdmse.softThresh(z, lam)"
   ]
  },
  {
   "cell_type": "code",
   "execution_count": 17,
   "metadata": {},
   "outputs": [
    {
     "name": "stdout",
     "output_type": "stream",
     "text": [
      "lambda_max = 3.7169221888498383\n",
      "lambda = 2.230153313309903\n",
      "lambda^2 = 4.9735838008671385\n"
     ]
    }
   ],
   "source": [
    "print('lambda_max = {}'.format(lam_max))\n",
    "print('lambda = {}'.format(lam))\n",
    "print('lambda^2 = {}'.format(lam**2))"
   ]
  },
  {
   "cell_type": "code",
   "execution_count": 18,
   "metadata": {},
   "outputs": [],
   "source": [
    "while np.dot(Sz, z) < np.sqrt(n):\n",
    "    z = np.random.randn(n)\n",
    "    Sz = pdmse.softThresh(z, lam)"
   ]
  },
  {
   "cell_type": "code",
   "execution_count": 19,
   "metadata": {},
   "outputs": [
    {
     "name": "stdout",
     "output_type": "stream",
     "text": [
      "<S(z; lam), z> = 272.09780982238954\n",
      "<S(z; lam), z>/sqrt(n) = 2.7209780982238954\n",
      "|U| = 278\n"
     ]
    }
   ],
   "source": [
    "print('<S(z; lam), z> = {}'.format(np.dot(Sz,z)))\n",
    "print('<S(z; lam), z>/sqrt(n) = {}'.format(np.dot(Sz,z)/np.sqrt(n)))\n",
    "J = np.argsort(z)\n",
    "z = z[J]\n",
    "Sz = Sz[J]\n",
    "\n",
    "zU = z.copy()\n",
    "zU[Sz == 0] = 0\n",
    "\n",
    "cardU = n - np.sum(zU == 0)\n",
    "print('|U| = {}'.format(cardU))"
   ]
  },
  {
   "cell_type": "markdown",
   "metadata": {},
   "source": [
    "## Stats about $S_\\lambda(z)$"
   ]
  },
  {
   "cell_type": "code",
   "execution_count": 20,
   "metadata": {},
   "outputs": [
    {
     "name": "stdout",
     "output_type": "stream",
     "text": [
      "norm(S(z;lam), 2)^2 = 60.58361269368194\n",
      "lam*norm(S(z;lam), 1) = 211.51419712870756\n"
     ]
    }
   ],
   "source": [
    "print('norm(S(z;lam), 2)^2 = {}'.format(np.dot(Sz, Sz)))\n",
    "print('lam*norm(S(z;lam), 1) = {}'.format(lam*np.linalg.norm(Sz, 1)))"
   ]
  },
  {
   "cell_type": "markdown",
   "metadata": {},
   "source": [
    "## Stats about $z_U$"
   ]
  },
  {
   "cell_type": "code",
   "execution_count": 21,
   "metadata": {},
   "outputs": [
    {
     "name": "stdout",
     "output_type": "stream",
     "text": [
      "<zU, zU> = 1866.2683035921616\n",
      "2*lam*norm(zU, 1) = 714.8255163694414\n",
      "lam^2 * |U| = 1382.6562966410645\n"
     ]
    }
   ],
   "source": [
    "print('<zU, zU> = {}'.format(np.dot(zU, zU)))\n",
    "print('2*lam*norm(zU, 1) = {}'.format(np.linalg.norm(zU, 1)))\n",
    "print('lam^2 * |U| = {}'.format(lam**2 * cardU))"
   ]
  },
  {
   "cell_type": "markdown",
   "metadata": {},
   "source": [
    "## Of note\n",
    "\n",
    "1. We have observed that $\\lambda \\|z_U\\|_1 \\leq (\\tilde s \\sqrt{2 \\log n}) (C \\sqrt{s \\log(n/s)})$ where $\\tilde s = |U|$. Should it be that $\\tilde s = \\sqrt n$? $n^{1/4}$? $n^{1/8}$? \n",
    "2. $\\|z_U\\|_1^2 = \\|z_U\\|_2^2 + \\sum_{j\\neq k} z_{(j)}z_{(k)}$ so maybe we can quantify the sum of some of the off-diagonal elements of the matrix $[z_{(j)}z_{(k)}]_{j,k}$ using the result in that pdf book I have. \n",
    "3. Empirically, it seems to be the case that $\\langle S_\\lambda (z), z\\rangle \\approx |U| = \\tilde s$. It is typically very close but can vary by about 10%, max. Is the reason for this obvious? "
   ]
  },
  {
   "cell_type": "markdown",
   "metadata": {},
   "source": [
    "# Lower-bounding Lipschitz functions?"
   ]
  },
  {
   "cell_type": "code",
   "execution_count": 4,
   "metadata": {
    "collapsed": true
   },
   "outputs": [],
   "source": [
    "def approximateThresholdScaling(lam, n, k=1000):\n",
    "    \"\"\"\n",
    "    approximateThresholdScaling(lam, n[, k]) \n",
    "    Finds the distribution of the constant K such that\n",
    "        <S(z; lambda), z> = K(z, lambda) <S(z; lambda), S(z; lambda)>\n",
    "    where z ~ N(0, 1), lambda > 0 and S(.; lambda) is the \n",
    "    lambda-soft thresholding operator\n",
    "        S(z; lambda) = max(0, |z| - lambda) * sgn(z). \n",
    "    We know from Convex Analysis that S(.; lambda) is firmly non-expansive\n",
    "    For all z, w, a convex function f is firmly non-expansive if\n",
    "        <f(z) - f(w), z - w> ≥ <f(z) - f(w), f(z) - f(w)>\n",
    "    Moreover, we know that S(.; lambda) is Lipschitz continuous with \n",
    "    Lipschitz constant almost surely equal to 1\n",
    "        ||S(z; lambda) - S(w; lambda)|| ≤ L ||z - w||. \n",
    "    We are hoping to even further constrain the behaviour of the \n",
    "    soft-thresholding operator to determine a minimum growth rate of its\n",
    "    norm with respect to dimension. \n",
    "    \"\"\"\n",
    "    z = np.random.randn(n, k)\n",
    "    Sz = pdmse.softThresh(z, lam)\n",
    "    return np.einsum('i...,i...', Sz, z) / np.einsum('i...,i...', Sz, Sz)"
   ]
  },
  {
   "cell_type": "code",
   "execution_count": 70,
   "metadata": {
    "collapsed": true
   },
   "outputs": [],
   "source": [
    "def approximateThresholdScaling2(lam, n, k=1000):\n",
    "    Sz = pdmse.softThresh(np.random.randn(n, k), lam)\n",
    "    Sz1 = np.linalg.norm(Sz, axis=0)\n",
    "    Sz2sq = np.einsum('i...,i...', Sz, Sz)\n",
    "    return lam * Sz1 / Sz2sq"
   ]
  },
  {
   "cell_type": "markdown",
   "metadata": {},
   "source": [
    "## For fixed $n$. "
   ]
  },
  {
   "cell_type": "code",
   "execution_count": 68,
   "metadata": {},
   "outputs": [
    {
     "name": "stdout",
     "output_type": "stream",
     "text": [
      "96.2 %\r"
     ]
    }
   ],
   "source": [
    "n = 10000; k = 1000;\n",
    "s = 1\n",
    "lam_max = np.sqrt(np.log(n))\n",
    "rho = 1 #3/5\n",
    "lamVec = np.linspace(.1, rho*lam_max, 500);\n",
    "\n",
    "thrDist = np.zeros((lamVec.size, k))\n",
    "thrDist2 = np.zeros((lamVec.size, k))\n",
    "for ell, lam in enumerate(lamVec):\n",
    "    if (10*ell % 300) == 0:\n",
    "        print('{} %'.format(np.round(100*(ell+1)/lamVec.size, 1)), end='\\r')\n",
    "    thrDist[ell, :] = approximateThresholdScaling(lam, n, k)\n",
    "    thrDist2[ell, :] = approximateThresholdScaling2(lam, n, k)"
   ]
  },
  {
   "cell_type": "code",
   "execution_count": 69,
   "metadata": {},
   "outputs": [
    {
     "data": {
      "image/png": "[encoded data removed]",
      "text/plain": [
       "<matplotlib.figure.Figure at 0x12948cbe0>"
      ]
     },
     "metadata": {},
     "output_type": "display_data"
    }
   ],
   "source": [
    "plt.figure(figsize=(10,5));\n",
    "plt.plot(lamVec, thrDist.mean(axis=1));\n",
    "plt.plot(lamVec, thrDist.mean(axis=1) - thrDist.std(axis=1), 'g--')\n",
    "plt.plot(lamVec, thrDist.mean(axis=1) + thrDist.std(axis=1), 'g--')\n",
    "plt.plot(lamVec, (lamVec + 1) * (lamVec < 1) + 2*lamVec*(lamVec >=1), 'r:');\n",
    "plt.title('$\\\\langle S(z;\\\\lambda),z \\\\rangle / \\\\|S(z; \\\\lambda)\\\\|_2^2$', size=18);"
   ]
  },
  {
   "cell_type": "markdown",
   "metadata": {},
   "source": [
    "# When $\\lambda = 1$"
   ]
  },
  {
   "cell_type": "code",
   "execution_count": 22,
   "metadata": {},
   "outputs": [
    {
     "data": {
      "image/png": "[encoded data removed]",
      "text/plain": [
       "<matplotlib.figure.Figure at 0x1110c18d0>"
      ]
     },
     "metadata": {},
     "output_type": "display_data"
    }
   ],
   "source": [
    "lower_constant_approx1 = approximateThresholdScaling(1, 1000, 10000)\n",
    "plt.figure(figsize=(10,3))\n",
    "pdf, bins, patches = plt.hist(lower_constant_approx1, bins=30, normed=True, color=(0,0,1,.5));\n",
    "ymin, ymax = plt.ylim();\n",
    "mu1 = lower_constant_approx1.mean()\n",
    "std1 = lower_constant_approx1.std()\n",
    "plt.vlines(mu1, 0, ymax, 'r', 'dashed', lw=2, label='µ = {:5.4g}'.format(mu1));\n",
    "plt.vlines([mu1 - std1, mu1 + std1], 0, ymax, 'r', 'dotted', lw=2);\n",
    "plt.legend();"
   ]
  },
  {
   "cell_type": "code",
   "execution_count": 23,
   "metadata": {},
   "outputs": [
    {
     "data": {
      "image/png": "[encoded data removed]",
      "text/plain": [
       "<matplotlib.figure.Figure at 0x1111ce588>"
      ]
     },
     "metadata": {},
     "output_type": "display_data"
    }
   ],
   "source": [
    "lower_constant_approx2 = approximateThresholdScaling(1, 10000, 1000)\n",
    "plt.figure(figsize=(10,3))\n",
    "pdf2, bins2, patches2 = plt.hist(lower_constant_approx2, bins=bins, normed=True, color=(0,0,1,.5));\n",
    "ymin2, ymax2 = plt.ylim();\n",
    "mu2 = lower_constant_approx2.mean()\n",
    "std2 = lower_constant_approx2.std()\n",
    "plt.vlines(mu2, 0, ymax2, 'r', 'dashed', lw=2, label='µ = {:5.4g}'.format(mu2));\n",
    "plt.vlines([mu2 - std2, mu2 + std2], 0, ymax2, 'r', 'dotted', lw=2);\n",
    "plt.legend();"
   ]
  },
  {
   "cell_type": "markdown",
   "metadata": {},
   "source": [
    "# When $\\lambda = \\rho \\sqrt{s \\log (n/s)}$"
   ]
  },
  {
   "cell_type": "code",
   "execution_count": 24,
   "metadata": {},
   "outputs": [],
   "source": [
    "rho = 3/5\n",
    "s = 2\n",
    "n3 = 1000\n",
    "lam3 = rho * np.sqrt(s*np.log(n3/s))\n",
    "\n",
    "lower_constant_approx3 = approximateThresholdScaling(lam3, n3, 10000)"
   ]
  },
  {
   "cell_type": "code",
   "execution_count": 26,
   "metadata": {},
   "outputs": [
    {
     "name": "stdout",
     "output_type": "stream",
     "text": [
      "lambda = 2.1153056116939646\n"
     ]
    },
    {
     "data": {
      "image/png": "[encoded data removed]",
      "text/plain": [
       "<matplotlib.figure.Figure at 0x126e248d0>"
      ]
     },
     "metadata": {},
     "output_type": "display_data"
    }
   ],
   "source": [
    "plt.figure(figsize=(10,3))\n",
    "pdf, bins, patches = plt.hist(lower_constant_approx3, bins=30, normed=True, color=(0,0,1,.5));\n",
    "ymin, ymax = plt.ylim();\n",
    "mu3 = lower_constant_approx3.mean()\n",
    "std3 = lower_constant_approx3.std()\n",
    "plt.vlines(mu3, 0, ymax, 'r', 'dashed', lw=2, label='µ = {:5.4g}'.format(mu3));\n",
    "plt.vlines([mu3 - std3, mu3 + std3], 0, ymax, 'r', 'dotted', lw=2);\n",
    "plt.legend();\n",
    "print('lambda = {}'.format(lam3))"
   ]
  },
  {
   "cell_type": "markdown",
   "metadata": {
    "variables": {
     "print(np.round(2 * lam3, 2))": "4.23"
    }
   },
   "source": [
    "$2 \\lambda \\approx $ {{print(np.round(2 * lam3, 2))}}"
   ]
  },
  {
   "cell_type": "code",
   "execution_count": 29,
   "metadata": {
    "collapsed": true
   },
   "outputs": [],
   "source": [
    "n4 = 10000\n",
    "lam4 = rho * np.sqrt(s*np.log(n4/s))\n",
    "\n",
    "lower_constant_approx4 = approximateThresholdScaling(lam4, n4, 10000)"
   ]
  },
  {
   "cell_type": "code",
   "execution_count": 35,
   "metadata": {},
   "outputs": [
    {
     "data": {
      "image/png": "[encoded data removed]",
      "text/plain": [
       "<matplotlib.figure.Figure at 0x1110c92b0>"
      ]
     },
     "metadata": {},
     "output_type": "display_data"
    }
   ],
   "source": [
    "plt.figure(figsize=(10,3))\n",
    "pdf, bins, patches = plt.hist(lower_constant_approx4, bins=30, normed=True, color=(0,0,1,.5));\n",
    "ymin, ymax = plt.ylim();\n",
    "mu4 = lower_constant_approx4.mean()\n",
    "std4 = lower_constant_approx4.std()\n",
    "plt.vlines(mu4, 0, ymax, 'r', 'dashed', lw=2, label='µ = {:5.4g}'.format(mu4));\n",
    "plt.vlines([mu4 - std4, mu4 + std4], 0, ymax, 'r', 'dotted', lw=2);\n",
    "plt.legend();"
   ]
  },
  {
   "cell_type": "markdown",
   "metadata": {
    "variables": {
     "print(np.round(2 * lam4, 2))": "4.95"
    }
   },
   "source": [
    "$2 \\lambda \\approx $ {{print(np.round(2 * lam4, 2))}}"
   ]
  },
  {
   "cell_type": "code",
   "execution_count": null,
   "metadata": {},
   "outputs": [],
   "source": [
    "print(lam3)\n",
    "print(lam4)"
   ]
  },
  {
   "cell_type": "code",
   "execution_count": null,
   "metadata": {},
   "outputs": [],
   "source": [
    "lam4/lam3"
   ]
  },
  {
   "cell_type": "code",
   "execution_count": null,
   "metadata": {},
   "outputs": [],
   "source": [
    "mu3/mu4"
   ]
  },
  {
   "cell_type": "code",
   "execution_count": null,
   "metadata": {},
   "outputs": [],
   "source": [
    ".5/lam3"
   ]
  },
  {
   "cell_type": "code",
   "execution_count": null,
   "metadata": {},
   "outputs": [],
   "source": [
    ".5/lam4"
   ]
  },
  {
   "cell_type": "markdown",
   "metadata": {},
   "source": [
    "# Comparing support size and inner-product"
   ]
  },
  {
   "cell_type": "code",
   "execution_count": 286,
   "metadata": {
    "collapsed": true
   },
   "outputs": [],
   "source": [
    "from scipy.stats import norm\n",
    "from scipy.stats import normaltest\n",
    "from statsmodels.stats.diagnostic import normal_ad, lillifors\n",
    "from statsmodels.graphics.gofplots import qqplot"
   ]
  },
  {
   "cell_type": "code",
   "execution_count": 151,
   "metadata": {
    "collapsed": true
   },
   "outputs": [],
   "source": [
    "def SupportSizeInnerProductDistribution(lam, n, k=1000):\n",
    "    \"\"\"\n",
    "    SupportSizeInnerProductDistribution(lam, n[, k]) returns the ratio\n",
    "        <S(z; lambda), z> / #U, U := {j : S(z[j]; lambda) ≠ 0}\n",
    "    \"\"\"\n",
    "    z = np.random.randn(n,k)\n",
    "    Sz = pdmse.softThresh(z, lam)\n",
    "    ip = np.einsum('i..., i...', Sz, z)\n",
    "    ss = np.sum( np.abs(Sz) > 0, axis=0)\n",
    "    return ip - ss"
   ]
  },
  {
   "cell_type": "code",
   "execution_count": 281,
   "metadata": {
    "collapsed": true
   },
   "outputs": [],
   "source": [
    "ssipRatio_Sample = SupportSizeInnerProductDistribution(2, 10000, k=1000)"
   ]
  },
  {
   "cell_type": "markdown",
   "metadata": {},
   "source": [
    "Compare S_lam (z) and |U| for other values of lambda than 1 and 2 (higher values)"
   ]
  },
  {
   "cell_type": "code",
   "execution_count": 282,
   "metadata": {},
   "outputs": [
    {
     "data": {
      "image/png": "[encoded data removed]",
      "text/plain": [
       "<matplotlib.figure.Figure at 0x110920da0>"
      ]
     },
     "metadata": {},
     "output_type": "display_data"
    }
   ],
   "source": [
    "mu_ssip = ssipRatio_Sample.mean()\n",
    "sigma_ssip = ssipRatio_Sample.std()\n",
    "ssip_x = np.linspace(ssipRatio_Sample.min(), ssipRatio_Sample.max(), 1001);\n",
    "ssip_pdf = norm.pdf((ssip_x - mu_ssip)/sigma_ssip);\n",
    "plt.hist(ssipRatio_Sample, normed=True, bins=40, color=(.2, 0, .8, .5), lw=2, histtype='step');\n",
    "plt.plot(ssip_x, ssip_pdf/sigma_ssip, ':', lw=2, color=(.8, 0, .2, .8));"
   ]
  },
  {
   "cell_type": "code",
   "execution_count": 283,
   "metadata": {},
   "outputs": [
    {
     "name": "stdout",
     "output_type": "stream",
     "text": [
      "(0.61463936013785769, 0.10960432737473848)\n",
      "(0.021625937297216957, 0.30204689884065516)\n",
      "NormaltestResult(statistic=5.9027227890022358, pvalue=0.052268499441635294)\n"
     ]
    }
   ],
   "source": [
    "print(normal_ad(ssipRatio_Sample))\n",
    "print(lillifors(ssipRatio_Sample))\n",
    "print(normaltest(ssipRatio_Sample))"
   ]
  },
  {
   "cell_type": "markdown",
   "metadata": {},
   "source": [
    "Okay so we can't reject the null hypothesis. This makes sense: $\\langle S_\\lambda(z), z\\rangle / |U| > 0$ so the distribution cannot be normal, even if it looks that way. What does a qq-plot say? "
   ]
  },
  {
   "cell_type": "code",
   "execution_count": 284,
   "metadata": {},
   "outputs": [
    {
     "data": {
      "image/png": "[encoded data removed]",
      "text/plain": [
       "<matplotlib.figure.Figure at 0x1107c22e8>"
      ]
     },
     "metadata": {},
     "output_type": "display_data"
    }
   ],
   "source": [
    "qqplot(ssipRatio_Sample);"
   ]
  },
  {
   "cell_type": "markdown",
   "metadata": {},
   "source": [
    "So a normal distribution kind of doesn't wind up fitting the left tail. "
   ]
  },
  {
   "cell_type": "code",
   "execution_count": 285,
   "metadata": {},
   "outputs": [
    {
     "data": {
      "text/plain": [
       "-0.086406333324723292"
      ]
     },
     "execution_count": 285,
     "metadata": {},
     "output_type": "execute_result"
    }
   ],
   "source": [
    "(ssipRatio_Sample.mean() - 1)/ssipRatio_Sample.std()"
   ]
  }
 ],
 "metadata": {
  "anaconda-cloud": {},
  "kernelspec": {
   "display_name": "Python [default]",
   "language": "python",
   "name": "python3"
  },
  "language_info": {
   "codemirror_mode": {
    "name": "ipython",
    "version": 3
   },
   "file_extension": ".py",
   "mimetype": "text/x-python",
   "name": "python",
   "nbconvert_exporter": "python",
   "pygments_lexer": "ipython3",
   "version": "3.5.2"
  },
  "toc": {
   "colors": {
    "hover_highlight": "#DAA520",
    "navigate_num": "#000000",
    "navigate_text": "#333333",
    "running_highlight": "#FF0000",
    "selected_highlight": "#FFD700",
    "sidebar_border": "#EEEEEE",
    "wrapper_background": "#FFFFFF"
   },
   "moveMenuLeft": true,
   "nav_menu": {
    "height": "12px",
    "width": "252px"
   },
   "navigate_menu": true,
   "number_sections": true,
   "sideBar": true,
   "threshold": 4,
   "toc_cell": true,
   "toc_section_display": "block",
   "toc_window_display": false,
   "widenNotebook": false
  }
 },
 "nbformat": 4,
 "nbformat_minor": 1
}
